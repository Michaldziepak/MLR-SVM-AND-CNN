{
 "cells": [
  {
   "cell_type": "code",
   "execution_count": 1,
   "metadata": {},
   "outputs": [],
   "source": [
    "from keras.models import Sequential\n",
    "from keras.layers import Dense, Conv1D, Flatten\n",
    "from sklearn.model_selection import train_test_split\n",
    "from sklearn.metrics import mean_squared_error\n",
    "import matplotlib.pyplot as plt\n",
    "import numpy as np\n",
    "import pandas as pd"
   ]
  },
  {
   "cell_type": "code",
   "execution_count": 2,
   "metadata": {},
   "outputs": [],
   "source": [
    "pd.set_option('display.max_columns',100)\n",
    "Data = pd.read_excel(\"Otw4_mgr.xlsx\")"
   ]
  },
  {
   "cell_type": "code",
   "execution_count": 3,
   "metadata": {},
   "outputs": [],
   "source": [
    "Labeleddata = Data.dropna()"
   ]
  },
  {
   "cell_type": "code",
   "execution_count": 4,
   "metadata": {},
   "outputs": [],
   "source": [
    "features = list(Data.columns.values)\n",
    "Labeleddata_withr8index = Labeleddata.reset_index(drop=True)#NAN DROP\n",
    "\n",
    "from sklearn import preprocessing\n",
    "\n",
    "x = Labeleddata_withr8index.iloc[:,1:20].values\n",
    "min_max_scaler = preprocessing.MinMaxScaler()\n",
    "x_scaled = min_max_scaler.fit_transform(x)\n",
    "df = pd.DataFrame(x_scaled)\n",
    "df.columns = features[1:20]\n",
    "\n",
    "non_standarized_data = Labeleddata_withr8index\n",
    "test_row_standarized = df.iloc[5:7]\n",
    "\n",
    "non_standarized_data = non_standarized_data.drop([5,6])\n",
    "TOC = non_standarized_data[\"TOC[%]\"]\n",
    "TOC = TOC.reset_index(drop=True) #31 elements of nonstandarized TOC\n",
    "\n",
    "test_row = Labeleddata_withr8index.iloc[5:7]#test rows 5,6+\n",
    "R8data= df.drop([5,6])# dropping 5 and 6 row in labeled data and creating R8data (31 elements)\n",
    "R8data = R8data.reset_index(drop=True)# reseting index for R8data\n",
    "\n",
    "\n",
    "\n",
    "#TOC = non_standarized_data[\"TOC[%]\"]#toc 31 elements\n",
    "\n",
    "TOC_row5=test_row[\"TOC[%]\"] # TOC 2 elements non standarized\n",
    "#R8data,Toc, test_row_standarized, TOC_row5"
   ]
  },
  {
   "cell_type": "code",
   "execution_count": 5,
   "metadata": {},
   "outputs": [
    {
     "name": "stdout",
     "output_type": "stream",
     "text": [
      "(32, 19)\n"
     ]
    }
   ],
   "source": [
    "x, y = R8data, TOC\n",
    "print(x.shape)"
   ]
  },
  {
   "cell_type": "code",
   "execution_count": 6,
   "metadata": {},
   "outputs": [
    {
     "name": "stdout",
     "output_type": "stream",
     "text": [
      "(32, 19, 1)\n"
     ]
    }
   ],
   "source": [
    "x = x.values.reshape(x.shape[0],x.shape[1],1)\n",
    "print(x.shape)"
   ]
  },
  {
   "cell_type": "code",
   "execution_count": 7,
   "metadata": {},
   "outputs": [],
   "source": [
    "xtrain, xtest, ytrain, ytest = train_test_split(x, y, test_size=0.16)\n"
   ]
  },
  {
   "cell_type": "code",
   "execution_count": 8,
   "metadata": {},
   "outputs": [
    {
     "name": "stdout",
     "output_type": "stream",
     "text": [
      "Model: \"sequential\"\n",
      "_________________________________________________________________\n",
      "Layer (type)                 Output Shape              Param #   \n",
      "=================================================================\n",
      "conv1d (Conv1D)              (None, 18, 64)            192       \n",
      "_________________________________________________________________\n",
      "flatten (Flatten)            (None, 1152)              0         \n",
      "_________________________________________________________________\n",
      "dense (Dense)                (None, 64)                73792     \n",
      "_________________________________________________________________\n",
      "dense_1 (Dense)              (None, 1)                 65        \n",
      "=================================================================\n",
      "Total params: 74,049\n",
      "Trainable params: 74,049\n",
      "Non-trainable params: 0\n",
      "_________________________________________________________________\n"
     ]
    }
   ],
   "source": [
    "model = Sequential()\n",
    "model.add(Conv1D(64, 2, activation=\"relu\", input_shape=(19,1)))\n",
    "model.add(Flatten())\n",
    "model.add(Dense(64, activation=\"relu\"))\n",
    "model.add(Dense(1))\n",
    "model.compile(loss=\"mse\", optimizer=\"adam\",metrics=['accuracy'])\n",
    "model.summary()"
   ]
  },
  {
   "cell_type": "code",
   "execution_count": 9,
   "metadata": {},
   "outputs": [],
   "source": [
    "from tensorflow.keras.callbacks import TensorBoard\n",
    "import time\n",
    "NAME = \"SIEC-{}\".format(int(time.time()))\n",
    "tensorboard = TensorBoard(log_dir='logs/{}'.format(NAME))"
   ]
  },
  {
   "cell_type": "code",
   "execution_count": 10,
   "metadata": {},
   "outputs": [
    {
     "name": "stdout",
     "output_type": "stream",
     "text": [
      "Epoch 1/150\n",
      "13/13 [==============================] - 22s 45ms/step - loss: 15.0438 - accuracy: 0.0000e+00\n",
      "Epoch 2/150\n",
      "13/13 [==============================] - 0s 1ms/step - loss: 9.1908 - accuracy: 0.0000e+00\n",
      "Epoch 3/150\n",
      "13/13 [==============================] - 0s 2ms/step - loss: 6.4301 - accuracy: 0.0000e+00\n",
      "Epoch 4/150\n",
      "13/13 [==============================] - 0s 2ms/step - loss: 2.4537 - accuracy: 0.0000e+00\n",
      "Epoch 5/150\n",
      "13/13 [==============================] - 0s 2ms/step - loss: 0.8047 - accuracy: 0.0000e+00\n",
      "Epoch 6/150\n",
      "13/13 [==============================] - 0s 2ms/step - loss: 0.8629 - accuracy: 0.0000e+00\n",
      "Epoch 7/150\n",
      "13/13 [==============================] - 0s 2ms/step - loss: 0.6938 - accuracy: 0.0000e+00\n",
      "Epoch 8/150\n",
      "13/13 [==============================] - 0s 2ms/step - loss: 0.9035 - accuracy: 0.0000e+00\n",
      "Epoch 9/150\n",
      "13/13 [==============================] - 0s 2ms/step - loss: 0.7396 - accuracy: 0.0000e+00\n",
      "Epoch 10/150\n",
      "13/13 [==============================] - 0s 2ms/step - loss: 1.2176 - accuracy: 0.0000e+00\n",
      "Epoch 11/150\n",
      "13/13 [==============================] - 0s 2ms/step - loss: 0.4429 - accuracy: 0.0000e+00\n",
      "Epoch 12/150\n",
      "13/13 [==============================] - 0s 2ms/step - loss: 1.1582 - accuracy: 0.0000e+00\n",
      "Epoch 13/150\n",
      "13/13 [==============================] - 0s 3ms/step - loss: 0.8220 - accuracy: 0.0000e+00\n",
      "Epoch 14/150\n",
      "13/13 [==============================] - 0s 2ms/step - loss: 0.4464 - accuracy: 0.0000e+00\n",
      "Epoch 15/150\n",
      "13/13 [==============================] - 0s 5ms/step - loss: 0.6005 - accuracy: 0.0000e+00\n",
      "Epoch 16/150\n",
      "13/13 [==============================] - 0s 2ms/step - loss: 0.4038 - accuracy: 0.0000e+00\n",
      "Epoch 17/150\n",
      "13/13 [==============================] - 0s 1ms/step - loss: 0.4395 - accuracy: 0.0000e+00\n",
      "Epoch 18/150\n",
      "13/13 [==============================] - 0s 2ms/step - loss: 0.8261 - accuracy: 0.0000e+00\n",
      "Epoch 19/150\n",
      "13/13 [==============================] - 0s 3ms/step - loss: 0.5767 - accuracy: 0.0000e+00\n",
      "Epoch 20/150\n",
      "13/13 [==============================] - 0s 3ms/step - loss: 0.5088 - accuracy: 0.0000e+00\n",
      "Epoch 21/150\n",
      "13/13 [==============================] - 0s 2ms/step - loss: 0.6869 - accuracy: 0.0000e+00\n",
      "Epoch 22/150\n",
      "13/13 [==============================] - 0s 3ms/step - loss: 0.3186 - accuracy: 0.0000e+00\n",
      "Epoch 23/150\n",
      "13/13 [==============================] - 0s 2ms/step - loss: 0.3636 - accuracy: 0.0000e+00\n",
      "Epoch 24/150\n",
      "13/13 [==============================] - 0s 3ms/step - loss: 0.5911 - accuracy: 0.0000e+00\n",
      "Epoch 25/150\n",
      "13/13 [==============================] - 0s 2ms/step - loss: 0.2785 - accuracy: 0.0000e+00\n",
      "Epoch 26/150\n",
      "13/13 [==============================] - 0s 3ms/step - loss: 0.9338 - accuracy: 0.0000e+00\n",
      "Epoch 27/150\n",
      "13/13 [==============================] - 0s 2ms/step - loss: 0.7815 - accuracy: 0.0000e+00\n",
      "Epoch 28/150\n",
      "13/13 [==============================] - 0s 4ms/step - loss: 0.3702 - accuracy: 0.0000e+00\n",
      "Epoch 29/150\n",
      "13/13 [==============================] - 0s 2ms/step - loss: 0.4438 - accuracy: 0.0000e+00\n",
      "Epoch 30/150\n",
      "13/13 [==============================] - 0s 2ms/step - loss: 0.6501 - accuracy: 0.0000e+00\n",
      "Epoch 31/150\n",
      "13/13 [==============================] - 0s 2ms/step - loss: 0.3635 - accuracy: 0.0000e+00\n",
      "Epoch 32/150\n",
      "13/13 [==============================] - 0s 2ms/step - loss: 0.3322 - accuracy: 0.0000e+00\n",
      "Epoch 33/150\n",
      "13/13 [==============================] - 0s 2ms/step - loss: 0.3591 - accuracy: 0.0000e+00\n",
      "Epoch 34/150\n",
      "13/13 [==============================] - 0s 2ms/step - loss: 0.4408 - accuracy: 0.0000e+00\n",
      "Epoch 35/150\n",
      "13/13 [==============================] - 0s 4ms/step - loss: 0.3391 - accuracy: 0.0000e+00\n",
      "Epoch 36/150\n",
      "13/13 [==============================] - 0s 2ms/step - loss: 0.4367 - accuracy: 0.0000e+00\n",
      "Epoch 37/150\n",
      "13/13 [==============================] - 0s 2ms/step - loss: 0.3912 - accuracy: 0.0000e+00\n",
      "Epoch 38/150\n",
      "13/13 [==============================] - 0s 3ms/step - loss: 0.3897 - accuracy: 0.0000e+00\n",
      "Epoch 39/150\n",
      "13/13 [==============================] - 0s 2ms/step - loss: 0.3433 - accuracy: 0.0000e+00\n",
      "Epoch 40/150\n",
      "13/13 [==============================] - 0s 2ms/step - loss: 0.3602 - accuracy: 0.0000e+00\n",
      "Epoch 41/150\n",
      "13/13 [==============================] - 0s 3ms/step - loss: 0.2602 - accuracy: 0.0000e+00\n",
      "Epoch 42/150\n",
      "13/13 [==============================] - 0s 2ms/step - loss: 0.1781 - accuracy: 0.0000e+00\n",
      "Epoch 43/150\n",
      "13/13 [==============================] - 0s 2ms/step - loss: 0.3232 - accuracy: 0.0000e+00\n",
      "Epoch 44/150\n",
      "13/13 [==============================] - 0s 3ms/step - loss: 0.3659 - accuracy: 0.0000e+00\n",
      "Epoch 45/150\n",
      "13/13 [==============================] - 0s 4ms/step - loss: 0.3455 - accuracy: 0.0000e+00\n",
      "Epoch 46/150\n",
      "13/13 [==============================] - 0s 2ms/step - loss: 0.3859 - accuracy: 0.0000e+00\n",
      "Epoch 47/150\n",
      "13/13 [==============================] - 0s 2ms/step - loss: 0.6353 - accuracy: 0.0000e+00\n",
      "Epoch 48/150\n",
      "13/13 [==============================] - 0s 2ms/step - loss: 0.3057 - accuracy: 0.0000e+00\n",
      "Epoch 49/150\n",
      "13/13 [==============================] - 0s 3ms/step - loss: 0.5919 - accuracy: 0.0000e+00\n",
      "Epoch 50/150\n",
      "13/13 [==============================] - 0s 4ms/step - loss: 0.3452 - accuracy: 0.0000e+00\n",
      "Epoch 51/150\n",
      "13/13 [==============================] - 0s 2ms/step - loss: 0.2400 - accuracy: 0.0000e+00\n",
      "Epoch 52/150\n",
      "13/13 [==============================] - 0s 3ms/step - loss: 0.3547 - accuracy: 0.0000e+00\n",
      "Epoch 53/150\n",
      "13/13 [==============================] - 0s 2ms/step - loss: 0.2698 - accuracy: 0.0000e+00\n",
      "Epoch 54/150\n",
      "13/13 [==============================] - 0s 4ms/step - loss: 0.2019 - accuracy: 0.0000e+00\n",
      "Epoch 55/150\n",
      "13/13 [==============================] - 0s 1ms/step - loss: 0.1632 - accuracy: 0.0000e+00\n",
      "Epoch 56/150\n",
      "13/13 [==============================] - 0s 2ms/step - loss: 0.4100 - accuracy: 0.0000e+00\n",
      "Epoch 57/150\n",
      "13/13 [==============================] - 0s 2ms/step - loss: 0.4195 - accuracy: 0.0000e+00\n",
      "Epoch 58/150\n",
      "13/13 [==============================] - 0s 1ms/step - loss: 0.2732 - accuracy: 0.0000e+00\n",
      "Epoch 59/150\n",
      "13/13 [==============================] - 0s 3ms/step - loss: 0.2535 - accuracy: 0.0000e+00\n",
      "Epoch 60/150\n",
      "13/13 [==============================] - 0s 2ms/step - loss: 0.3405 - accuracy: 0.0000e+00\n",
      "Epoch 61/150\n",
      "13/13 [==============================] - 0s 3ms/step - loss: 0.5952 - accuracy: 0.0000e+00\n",
      "Epoch 62/150\n",
      "13/13 [==============================] - 0s 1ms/step - loss: 0.3109 - accuracy: 0.0000e+00\n",
      "Epoch 63/150\n",
      "13/13 [==============================] - 0s 2ms/step - loss: 0.2354 - accuracy: 0.0000e+00\n",
      "Epoch 64/150\n",
      "13/13 [==============================] - 0s 1ms/step - loss: 0.1345 - accuracy: 0.0000e+00\n",
      "Epoch 65/150\n",
      "13/13 [==============================] - 0s 2ms/step - loss: 0.3157 - accuracy: 0.0000e+00\n",
      "Epoch 66/150\n",
      "13/13 [==============================] - 0s 2ms/step - loss: 0.3124 - accuracy: 0.0000e+00\n",
      "Epoch 67/150\n",
      "13/13 [==============================] - 0s 3ms/step - loss: 0.3083 - accuracy: 0.0000e+00\n",
      "Epoch 68/150\n",
      "13/13 [==============================] - 0s 2ms/step - loss: 0.2500 - accuracy: 0.0000e+00\n",
      "Epoch 69/150\n",
      "13/13 [==============================] - 0s 3ms/step - loss: 0.1772 - accuracy: 0.0000e+00\n",
      "Epoch 70/150\n",
      "13/13 [==============================] - 0s 2ms/step - loss: 0.3228 - accuracy: 0.0000e+00\n",
      "Epoch 71/150\n",
      "13/13 [==============================] - 0s 2ms/step - loss: 0.1121 - accuracy: 0.0000e+00\n",
      "Epoch 72/150\n",
      "13/13 [==============================] - 0s 2ms/step - loss: 0.2092 - accuracy: 0.0000e+00\n",
      "Epoch 73/150\n",
      "13/13 [==============================] - 0s 2ms/step - loss: 0.3077 - accuracy: 0.0000e+00\n",
      "Epoch 74/150\n",
      "13/13 [==============================] - 0s 3ms/step - loss: 0.4096 - accuracy: 0.0000e+00\n",
      "Epoch 75/150\n",
      "13/13 [==============================] - 0s 2ms/step - loss: 0.1565 - accuracy: 0.0000e+00\n",
      "Epoch 76/150\n",
      "13/13 [==============================] - 0s 3ms/step - loss: 0.1043 - accuracy: 0.0000e+00\n",
      "Epoch 77/150\n",
      "13/13 [==============================] - 0s 2ms/step - loss: 0.1882 - accuracy: 0.0000e+00\n",
      "Epoch 78/150\n",
      "13/13 [==============================] - 0s 3ms/step - loss: 0.1885 - accuracy: 0.0000e+00\n",
      "Epoch 79/150\n"
     ]
    },
    {
     "name": "stdout",
     "output_type": "stream",
     "text": [
      "13/13 [==============================] - 0s 2ms/step - loss: 0.4801 - accuracy: 0.0000e+00\n",
      "Epoch 80/150\n",
      "13/13 [==============================] - 0s 1ms/step - loss: 0.5048 - accuracy: 0.0000e+00\n",
      "Epoch 81/150\n",
      "13/13 [==============================] - 0s 2ms/step - loss: 0.1354 - accuracy: 0.0000e+00\n",
      "Epoch 82/150\n",
      "13/13 [==============================] - 0s 2ms/step - loss: 0.1074 - accuracy: 0.0000e+00\n",
      "Epoch 83/150\n",
      "13/13 [==============================] - 0s 2ms/step - loss: 0.1269 - accuracy: 0.0000e+00\n",
      "Epoch 84/150\n",
      "13/13 [==============================] - 0s 1ms/step - loss: 0.1660 - accuracy: 0.0000e+00\n",
      "Epoch 85/150\n",
      "13/13 [==============================] - 0s 2ms/step - loss: 0.1224 - accuracy: 0.0000e+00\n",
      "Epoch 86/150\n",
      "13/13 [==============================] - 0s 1ms/step - loss: 0.2514 - accuracy: 0.0000e+00\n",
      "Epoch 87/150\n",
      "13/13 [==============================] - 0s 3ms/step - loss: 0.1414 - accuracy: 0.0000e+00\n",
      "Epoch 88/150\n",
      "13/13 [==============================] - 0s 3ms/step - loss: 0.3267 - accuracy: 0.0000e+00\n",
      "Epoch 89/150\n",
      "13/13 [==============================] - 0s 3ms/step - loss: 0.1202 - accuracy: 0.0000e+00\n",
      "Epoch 90/150\n",
      "13/13 [==============================] - 0s 4ms/step - loss: 0.1686 - accuracy: 0.0000e+00\n",
      "Epoch 91/150\n",
      "13/13 [==============================] - 0s 3ms/step - loss: 0.1650 - accuracy: 0.0000e+00\n",
      "Epoch 92/150\n",
      "13/13 [==============================] - 0s 2ms/step - loss: 0.1157 - accuracy: 0.0000e+00\n",
      "Epoch 93/150\n",
      "13/13 [==============================] - 0s 3ms/step - loss: 0.1413 - accuracy: 0.0000e+00\n",
      "Epoch 94/150\n",
      "13/13 [==============================] - 0s 4ms/step - loss: 0.1246 - accuracy: 0.0000e+00\n",
      "Epoch 95/150\n",
      "13/13 [==============================] - 0s 2ms/step - loss: 0.1610 - accuracy: 0.0000e+00\n",
      "Epoch 96/150\n",
      "13/13 [==============================] - 0s 2ms/step - loss: 0.4757 - accuracy: 0.0000e+00\n",
      "Epoch 97/150\n",
      "13/13 [==============================] - 0s 2ms/step - loss: 0.2051 - accuracy: 0.0000e+00\n",
      "Epoch 98/150\n",
      "13/13 [==============================] - 0s 2ms/step - loss: 0.1588 - accuracy: 0.0000e+00\n",
      "Epoch 99/150\n",
      "13/13 [==============================] - 0s 2ms/step - loss: 0.1597 - accuracy: 0.0000e+00\n",
      "Epoch 100/150\n",
      "13/13 [==============================] - 0s 2ms/step - loss: 0.2194 - accuracy: 0.0000e+00\n",
      "Epoch 101/150\n",
      "13/13 [==============================] - 0s 2ms/step - loss: 0.1736 - accuracy: 0.0000e+00\n",
      "Epoch 102/150\n",
      "13/13 [==============================] - 0s 3ms/step - loss: 0.2834 - accuracy: 0.0000e+00\n",
      "Epoch 103/150\n",
      "13/13 [==============================] - 0s 2ms/step - loss: 0.1751 - accuracy: 0.0000e+00\n",
      "Epoch 104/150\n",
      "13/13 [==============================] - 0s 2ms/step - loss: 0.2286 - accuracy: 0.0000e+00\n",
      "Epoch 105/150\n",
      "13/13 [==============================] - 0s 2ms/step - loss: 0.1541 - accuracy: 0.0000e+00\n",
      "Epoch 106/150\n",
      "13/13 [==============================] - 0s 1ms/step - loss: 0.0942 - accuracy: 0.0000e+00\n",
      "Epoch 107/150\n",
      "13/13 [==============================] - 0s 2ms/step - loss: 0.1925 - accuracy: 0.0000e+00\n",
      "Epoch 108/150\n",
      "13/13 [==============================] - 0s 2ms/step - loss: 0.0888 - accuracy: 0.0000e+00\n",
      "Epoch 109/150\n",
      "13/13 [==============================] - 0s 3ms/step - loss: 0.2248 - accuracy: 0.0000e+00\n",
      "Epoch 110/150\n",
      "13/13 [==============================] - 0s 1ms/step - loss: 0.1982 - accuracy: 0.0000e+00\n",
      "Epoch 111/150\n",
      "13/13 [==============================] - 0s 3ms/step - loss: 0.3579 - accuracy: 0.0000e+00\n",
      "Epoch 112/150\n",
      "13/13 [==============================] - 0s 2ms/step - loss: 0.1111 - accuracy: 0.0000e+00\n",
      "Epoch 113/150\n",
      "13/13 [==============================] - 0s 2ms/step - loss: 0.1931 - accuracy: 0.0000e+00\n",
      "Epoch 114/150\n",
      "13/13 [==============================] - 0s 2ms/step - loss: 0.1198 - accuracy: 0.0000e+00\n",
      "Epoch 115/150\n",
      "13/13 [==============================] - 0s 1ms/step - loss: 0.1247 - accuracy: 0.0000e+00\n",
      "Epoch 116/150\n",
      "13/13 [==============================] - 0s 2ms/step - loss: 0.2220 - accuracy: 0.0000e+00\n",
      "Epoch 117/150\n",
      "13/13 [==============================] - 0s 2ms/step - loss: 0.2893 - accuracy: 0.0000e+00\n",
      "Epoch 118/150\n",
      "13/13 [==============================] - 0s 2ms/step - loss: 0.2358 - accuracy: 0.0000e+00\n",
      "Epoch 119/150\n",
      "13/13 [==============================] - 0s 5ms/step - loss: 0.1670 - accuracy: 0.0000e+00\n",
      "Epoch 120/150\n",
      "13/13 [==============================] - 0s 4ms/step - loss: 0.1682 - accuracy: 0.0000e+00\n",
      "Epoch 121/150\n",
      "13/13 [==============================] - 0s 3ms/step - loss: 0.1059 - accuracy: 0.0000e+00\n",
      "Epoch 122/150\n",
      "13/13 [==============================] - 0s 2ms/step - loss: 0.1763 - accuracy: 0.0000e+00\n",
      "Epoch 123/150\n",
      "13/13 [==============================] - 0s 4ms/step - loss: 0.1104 - accuracy: 0.0000e+00\n",
      "Epoch 124/150\n",
      "13/13 [==============================] - 0s 1ms/step - loss: 0.2233 - accuracy: 0.0000e+00\n",
      "Epoch 125/150\n",
      "13/13 [==============================] - 0s 3ms/step - loss: 0.1304 - accuracy: 0.0000e+00\n",
      "Epoch 126/150\n",
      "13/13 [==============================] - 0s 2ms/step - loss: 0.0898 - accuracy: 0.0000e+00\n",
      "Epoch 127/150\n",
      "13/13 [==============================] - 0s 3ms/step - loss: 0.1215 - accuracy: 0.0000e+00\n",
      "Epoch 128/150\n",
      "13/13 [==============================] - 0s 2ms/step - loss: 0.1460 - accuracy: 0.0000e+00\n",
      "Epoch 129/150\n",
      "13/13 [==============================] - 0s 2ms/step - loss: 0.1789 - accuracy: 0.0000e+00\n",
      "Epoch 130/150\n",
      "13/13 [==============================] - 0s 3ms/step - loss: 0.0815 - accuracy: 0.0000e+00\n",
      "Epoch 131/150\n",
      "13/13 [==============================] - 0s 3ms/step - loss: 0.1763 - accuracy: 0.0000e+00\n",
      "Epoch 132/150\n",
      "13/13 [==============================] - 0s 2ms/step - loss: 0.0818 - accuracy: 0.0000e+00\n",
      "Epoch 133/150\n",
      "13/13 [==============================] - 0s 2ms/step - loss: 0.1060 - accuracy: 0.0000e+00\n",
      "Epoch 134/150\n",
      "13/13 [==============================] - 0s 3ms/step - loss: 0.0831 - accuracy: 0.0000e+00\n",
      "Epoch 135/150\n",
      "13/13 [==============================] - 0s 2ms/step - loss: 0.1316 - accuracy: 0.0000e+00\n",
      "Epoch 136/150\n",
      "13/13 [==============================] - 0s 4ms/step - loss: 0.1491 - accuracy: 0.0000e+00\n",
      "Epoch 137/150\n",
      "13/13 [==============================] - 0s 3ms/step - loss: 0.1885 - accuracy: 0.0000e+00\n",
      "Epoch 138/150\n",
      "13/13 [==============================] - 0s 3ms/step - loss: 0.1245 - accuracy: 0.0000e+00\n",
      "Epoch 139/150\n",
      "13/13 [==============================] - 0s 1ms/step - loss: 0.0631 - accuracy: 0.0000e+00\n",
      "Epoch 140/150\n",
      "13/13 [==============================] - 0s 3ms/step - loss: 0.0547 - accuracy: 0.0000e+00\n",
      "Epoch 141/150\n",
      "13/13 [==============================] - 0s 3ms/step - loss: 0.0863 - accuracy: 0.0000e+00\n",
      "Epoch 142/150\n",
      "13/13 [==============================] - 0s 2ms/step - loss: 0.1543 - accuracy: 0.0000e+00\n",
      "Epoch 143/150\n",
      "13/13 [==============================] - 0s 3ms/step - loss: 0.0806 - accuracy: 0.0000e+00\n",
      "Epoch 144/150\n",
      "13/13 [==============================] - 0s 2ms/step - loss: 0.0707 - accuracy: 0.0000e+00\n",
      "Epoch 145/150\n",
      "13/13 [==============================] - 0s 2ms/step - loss: 0.1531 - accuracy: 0.0000e+00\n",
      "Epoch 146/150\n",
      "13/13 [==============================] - 0s 2ms/step - loss: 0.1037 - accuracy: 0.0000e+00\n",
      "Epoch 147/150\n",
      "13/13 [==============================] - 0s 2ms/step - loss: 0.0598 - accuracy: 0.0000e+00\n",
      "Epoch 148/150\n",
      "13/13 [==============================] - 0s 2ms/step - loss: 0.1271 - accuracy: 0.0000e+00\n",
      "Epoch 149/150\n",
      "13/13 [==============================] - 0s 2ms/step - loss: 0.0471 - accuracy: 0.0000e+00\n",
      "Epoch 150/150\n",
      "13/13 [==============================] - 0s 2ms/step - loss: 0.0826 - accuracy: 0.0000e+00\n"
     ]
    },
    {
     "data": {
      "text/plain": [
       "<keras.callbacks.History at 0x1df4f8f52b0>"
      ]
     },
     "execution_count": 10,
     "metadata": {},
     "output_type": "execute_result"
    }
   ],
   "source": [
    "model.fit(xtrain, ytrain,batch_size = 2,epochs=150,callbacks =[tensorboard] )\n"
   ]
  },
  {
   "cell_type": "code",
   "execution_count": 11,
   "metadata": {},
   "outputs": [
    {
     "name": "stdout",
     "output_type": "stream",
     "text": [
      "1/1 [==============================] - 1s 661ms/step - loss: 0.3267 - accuracy: 0.0000e+00\n"
     ]
    }
   ],
   "source": [
    "loss, accuracy = model.evaluate(xtest,ytest)"
   ]
  },
  {
   "cell_type": "code",
   "execution_count": 12,
   "metadata": {},
   "outputs": [
    {
     "data": {
      "text/plain": [
       "array([[7.5979166 ],\n",
       "       [0.0226709 ],\n",
       "       [0.4734107 ],\n",
       "       [0.07238044],\n",
       "       [1.4477024 ],\n",
       "       [0.06468701]], dtype=float32)"
      ]
     },
     "execution_count": 12,
     "metadata": {},
     "output_type": "execute_result"
    }
   ],
   "source": [
    "ypred = model.predict(xtest)\n",
    "ypred\n"
   ]
  },
  {
   "cell_type": "code",
   "execution_count": 13,
   "metadata": {},
   "outputs": [
    {
     "data": {
      "image/png": "[encoded data removed]",
      "text/plain": [
       "<Figure size 432x288 with 1 Axes>"
      ]
     },
     "metadata": {
      "needs_background": "light"
     },
     "output_type": "display_data"
    }
   ],
   "source": [
    "x_ax = range(len(ypred))\n",
    "plt.scatter(x_ax, ytest, s=10, color=\"blue\", label=\"original\")\n",
    "plt.plot(x_ax, ypred, lw=0.8, color=\"red\", label=\"predicted\")\n",
    "plt.legend()\n",
    "plt.show()"
   ]
  },
  {
   "cell_type": "code",
   "execution_count": 14,
   "metadata": {},
   "outputs": [
    {
     "name": "stdout",
     "output_type": "stream",
     "text": [
      "[[-0.06215092]\n",
      " [-0.06533921]]\n"
     ]
    }
   ],
   "source": [
    "test_rownet = np.asarray(test_row_standarized) #testrow to model data without H, Hlab and TOC\n",
    "test_rownet = test_rownet.reshape(2,19,1)\n",
    "testpred = model.predict(test_rownet)\n",
    "print(testpred)"
   ]
  },
  {
   "cell_type": "code",
   "execution_count": null,
   "metadata": {},
   "outputs": [],
   "source": []
  },
  {
   "cell_type": "code",
   "execution_count": null,
   "metadata": {},
   "outputs": [],
   "source": []
  }
 ],
 "metadata": {
  "kernelspec": {
   "display_name": "Python 3",
   "language": "python",
   "name": "python3"
  },
  "language_info": {
   "codemirror_mode": {
    "name": "ipython",
    "version": 3
   },
   "file_extension": ".py",
   "mimetype": "text/x-python",
   "name": "python",
   "nbconvert_exporter": "python",
   "pygments_lexer": "ipython3",
   "version": "3.8.5"
  }
 },
 "nbformat": 4,
 "nbformat_minor": 4
}
