{
 "cells": [
  {
   "cell_type": "code",
   "execution_count": 1,
   "metadata": {},
   "outputs": [],
   "source": [
    "import pandas as pd\n",
    "import matplotlib as mb\n",
    "import sklearn as sk\n",
    "import matplotlib.pyplot as plt\n",
    "import numpy as np\n",
    "import seaborn as sns\n",
    "pd.set_option('display.max_columns',100) \n",
    "Data = pd.read_excel(\"Otw4_mgr.xlsx\")"
   ]
  },
  {
   "cell_type": "code",
   "execution_count": 2,
   "metadata": {},
   "outputs": [],
   "source": [
    "Labeleddata = Data.dropna()"
   ]
  },
  {
   "cell_type": "code",
   "execution_count": 3,
   "metadata": {},
   "outputs": [],
   "source": [
    "\n",
    "Labeleddata_withr8index = Labeleddata.reset_index(drop=True)\n",
    "test_row = Labeleddata_withr8index.iloc[5]\n",
    "R8data= Labeleddata_withr8index.drop(5)\n",
    "R8data = R8data.reset_index(drop=True)\n",
    "#R8data data with H and H lab and without extracted row with index 50 in labeled data and index 5 with reset_index\n",
    "TOC = R8data[\"TOC[%]\"]\n",
    "R8data = R8data.drop(columns=[\"H\", \"H (lab.)\",\"TOC[%]\"])\n",
    "TOC_row5=test_row[\"TOC[%]\"]"
   ]
  },
  {
   "cell_type": "code",
   "execution_count": 4,
   "metadata": {},
   "outputs": [],
   "source": [
    "model_data = Data.drop(columns=[\"H\", \"H (lab.)\",\"TOC[%]\"])"
   ]
  },
  {
   "cell_type": "code",
   "execution_count": 22,
   "metadata": {},
   "outputs": [
    {
     "name": "stdout",
     "output_type": "stream",
     "text": [
      "[-104.2     0.78    0.79    0.74    0.7     0.71    0.73    0.68    0.69\n",
      "    0.71]\n",
      "[-0.597 -0.664 -0.662 -0.727 -0.679 -0.745 -0.746 -0.944 -0.935  0.61 ]\n"
     ]
    }
   ],
   "source": [
    "from sklearn.linear_model import Ridge\n",
    "from sklearn import metrics\n",
    "from sklearn.model_selection import train_test_split\n",
    "from sklearn.linear_model import LinearRegression\n",
    "\n",
    "a = []\n",
    "b = []\n",
    "for i in [0.05,0.1,0.15,0.2,0.25,0.3,0.35,0.4,0.45,0.5]:\n",
    "    X_train, X_test, y_train, y_test = train_test_split(R8data,TOC,test_size=i, random_state=1)\n",
    "    linear_regression = Ridge()\n",
    "    linear_regression.fit(X=X_train, y=y_train)\n",
    "    prognoza = linear_regression.predict(X_test)\n",
    "    oczekiwane = y_test\n",
    "    a.append(metrics.r2_score(oczekiwane,prognoza)) \n",
    "    b.append(linear_regression.predict(model_data.iloc[50].values.reshape((1,-1)))[0])\n",
    "print(np.around(a,2))\n",
    "print(np.around(b,3))"
   ]
  },
  {
   "cell_type": "code",
   "execution_count": null,
   "metadata": {},
   "outputs": [],
   "source": []
  }
 ],
 "metadata": {
  "kernelspec": {
   "display_name": "Python 3",
   "language": "python",
   "name": "python3"
  },
  "language_info": {
   "codemirror_mode": {
    "name": "ipython",
    "version": 3
   },
   "file_extension": ".py",
   "mimetype": "text/x-python",
   "name": "python",
   "nbconvert_exporter": "python",
   "pygments_lexer": "ipython3",
   "version": "3.8.5"
  }
 },
 "nbformat": 4,
 "nbformat_minor": 4
}
