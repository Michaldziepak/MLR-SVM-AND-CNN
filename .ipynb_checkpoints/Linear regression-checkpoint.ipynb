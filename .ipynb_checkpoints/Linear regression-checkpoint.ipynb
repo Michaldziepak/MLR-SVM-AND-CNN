{
 "cells": [
  {
   "cell_type": "code",
   "execution_count": 2,
   "metadata": {},
   "outputs": [],
   "source": []
  },
  {
   "cell_type": "code",
   "execution_count": 3,
   "metadata": {},
   "outputs": [],
   "source": [
    "Labeleddata = Data.dropna()"
   ]
  },
  {
   "cell_type": "code",
   "execution_count": 4,
   "metadata": {},
   "outputs": [],
   "source": [
    "Labeleddata_withr8index = Labeleddata.reset_index(drop=True)\n",
    "test_row = Labeleddata_withr8index.iloc[5]\n",
    "R8data= Labeleddata_withr8index.drop(5)\n",
    "R8data = R8data.reset_index(drop=True)\n",
    "#R8data data with H and H lab and without extracted row with index 50 in labeled data and index 5 with reset_index\n",
    "TOC = R8data[\"TOC[%]\"]\n",
    "R8data = R8data.drop(columns=[\"H\", \"H (lab.)\",\"TOC[%]\"])\n",
    "TOC_row5=test_row[\"TOC[%]\"]\n",
    "#data for multilinear regression"
   ]
  },
  {
   "cell_type": "code",
   "execution_count": 5,
   "metadata": {},
   "outputs": [],
   "source": [
    "model_data = Data.drop(columns=[\"H\", \"H (lab.)\",\"TOC[%]\"])"
   ]
  },
  {
   "cell_type": "code",
   "execution_count": 19,
   "metadata": {},
   "outputs": [
    {
     "name": "stdout",
     "output_type": "stream",
     "text": [
      "[-0.13614677 -0.06338442 -0.07249193  0.10281701  0.09394745  0.10234409\n",
      "  0.01909173  0.02106116  0.3911472   0.30336918]\n"
     ]
    }
   ],
   "source": [
    "from sklearn import metrics\n",
    "from sklearn.model_selection import train_test_split\n",
    "from sklearn.linear_model import LinearRegression\n",
    "\n",
    "a = []\n",
    "b = []\n",
    "for i in [0.05,0.1,0.15,0.2,0.25,0.3,0.35,0.4,0.45,0.5]:\n",
    "    X_train, X_test, y_train, y_test = train_test_split(R8data,TOC,test_size=i, random_state=2)\n",
    "    linear_regression = LinearRegression()\n",
    "    linear_regression.fit(X=X_train, y=y_train)\n",
    "    prognoza = linear_regression.predict(X_test)\n",
    "    oczekiwane = y_test\n",
    "    a.append(metrics.r2_score(oczekiwane,prognoza)) \n",
    "    b.append(linear_regression.predict(model_data.iloc[50].values.reshape((1,-1)))[0])\n",
    "\n",
    "c =[2.05,2.05,2.05,2.05,2.05,2.05,2.05,2.05]\n",
    "c = np.asarray(c)\n",
    "b = np.asarray(b)\n",
    "c.reshape((-1,1))\n",
    "print(b)\n",
    "   # b.append(metrics.r2_score(linear_regression.predict(model_data.iloc[50].values.reshape((1,-1))),2.05))\n",
    "\n"
   ]
  }
 ],
 "metadata": {
  "kernelspec": {
   "display_name": "Python 3",
   "language": "python",
   "name": "python3"
  },
  "language_info": {
   "codemirror_mode": {
    "name": "ipython",
    "version": 3
   },
   "file_extension": ".py",
   "mimetype": "text/x-python",
   "name": "python",
   "nbconvert_exporter": "python",
   "pygments_lexer": "ipython3",
   "version": "3.8.5"
  }
 },
 "nbformat": 4,
 "nbformat_minor": 4
}
