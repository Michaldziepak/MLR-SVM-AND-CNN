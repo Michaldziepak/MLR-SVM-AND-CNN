{
 "cells": [
  {
   "cell_type": "code",
   "execution_count": 1,
   "metadata": {},
   "outputs": [],
   "source": [
    "from keras.models import Sequential\n",
    "from keras.layers import Dense, Conv1D, Flatten\n",
    "from sklearn.model_selection import train_test_split\n",
    "from sklearn.metrics import mean_squared_error\n",
    "import matplotlib.pyplot as plt\n",
    "import numpy as np\n",
    "import pandas as pd"
   ]
  },
  {
   "cell_type": "code",
   "execution_count": 2,
   "metadata": {},
   "outputs": [],
   "source": [
    "pd.set_option('display.max_columns',100)\n",
    "Data = pd.read_excel(\"Otw4_mgr.xlsx\")"
   ]
  },
  {
   "cell_type": "code",
   "execution_count": 3,
   "metadata": {},
   "outputs": [],
   "source": [
    "Labeleddata = Data.dropna()"
   ]
  },
  {
   "cell_type": "code",
   "execution_count": 4,
   "metadata": {},
   "outputs": [],
   "source": [
    "features = list(Data.columns.values)\n",
    "Labeleddata_withr8index = Labeleddata.reset_index(drop=True)#NAN DROP\n",
    "\n",
    "from sklearn import preprocessing\n",
    "\n",
    "x = Labeleddata_withr8index.iloc[:,1:20].values\n",
    "min_max_scaler = preprocessing.MinMaxScaler()\n",
    "x_scaled = min_max_scaler.fit_transform(x)\n",
    "df = pd.DataFrame(x_scaled)\n",
    "df.columns = features[1:20]\n",
    "\n",
    "non_standarized_data = Labeleddata_withr8index\n",
    "test_row_standarized = df.iloc[5:7]\n",
    "\n",
    "non_standarized_data = non_standarized_data.drop([5,6])\n",
    "TOC = non_standarized_data[\"TOC[%]\"]\n",
    "TOC = TOC.reset_index(drop=True) #31 elements of nonstandarized TOC\n",
    "\n",
    "test_row = Labeleddata_withr8index.iloc[5:7]#test rows 5,6+\n",
    "R8data= df.drop([5,6])# dropping 5 and 6 row in labeled data and creating R8data (31 elements)\n",
    "R8data = R8data.reset_index(drop=True)# reseting index for R8data\n",
    "\n",
    "\n",
    "\n",
    "#TOC = non_standarized_data[\"TOC[%]\"]#toc 31 elements\n",
    "\n",
    "TOC_row5=test_row[\"TOC[%]\"] # TOC 2 elements non standarized\n",
    "#R8data,Toc, test_row_standarized, TOC_row5"
   ]
  },
  {
   "cell_type": "code",
   "execution_count": 5,
   "metadata": {},
   "outputs": [
    {
     "name": "stdout",
     "output_type": "stream",
     "text": [
      "(32, 19)\n"
     ]
    }
   ],
   "source": [
    "x, y = R8data, TOC\n",
    "print(x.shape)"
   ]
  },
  {
   "cell_type": "code",
   "execution_count": 6,
   "metadata": {},
   "outputs": [
    {
     "name": "stdout",
     "output_type": "stream",
     "text": [
      "(32, 19, 1)\n"
     ]
    }
   ],
   "source": [
    "x = x.values.reshape(x.shape[0],x.shape[1],1)\n",
    "print(x.shape)"
   ]
  },
  {
   "cell_type": "code",
   "execution_count": 7,
   "metadata": {},
   "outputs": [],
   "source": [
    "xtrain, xtest, ytrain, ytest = train_test_split(x, y, test_size=0.16)\n"
   ]
  },
  {
   "cell_type": "code",
   "execution_count": 8,
   "metadata": {},
   "outputs": [
    {
     "name": "stdout",
     "output_type": "stream",
     "text": [
      "Model: \"sequential\"\n",
      "_________________________________________________________________\n",
      "Layer (type)                 Output Shape              Param #   \n",
      "=================================================================\n",
      "conv1d (Conv1D)              (None, 18, 128)           384       \n",
      "_________________________________________________________________\n",
      "flatten (Flatten)            (None, 2304)              0         \n",
      "_________________________________________________________________\n",
      "dense (Dense)                (None, 64)                147520    \n",
      "_________________________________________________________________\n",
      "dense_1 (Dense)              (None, 1)                 65        \n",
      "=================================================================\n",
      "Total params: 147,969\n",
      "Trainable params: 147,969\n",
      "Non-trainable params: 0\n",
      "_________________________________________________________________\n"
     ]
    }
   ],
   "source": [
    "model = Sequential()\n",
    "model.add(Conv1D(128, 2, activation=\"relu\", input_shape=(19,1)))\n",
    "model.add(Flatten())\n",
    "model.add(Dense(64, activation=\"relu\"))\n",
    "model.add(Dense(1))\n",
    "model.compile(loss=\"mse\", optimizer=\"adam\",metrics=['accuracy'])\n",
    "model.summary()"
   ]
  },
  {
   "cell_type": "code",
   "execution_count": 9,
   "metadata": {},
   "outputs": [],
   "source": [
    "from tensorflow.keras.callbacks import TensorBoard\n",
    "import time\n",
    "NAME = \"SIEC-{}\".format(int(time.time()))\n",
    "tensorboard = TensorBoard(log_dir='logs/{}'.format(NAME))"
   ]
  },
  {
   "cell_type": "code",
   "execution_count": 10,
   "metadata": {},
   "outputs": [
    {
     "name": "stdout",
     "output_type": "stream",
     "text": [
      "Epoch 1/150\n",
      "13/13 [==============================] - 28s 61ms/step - loss: 8.2552 - accuracy: 0.0000e+00\n",
      "Epoch 2/150\n",
      "13/13 [==============================] - 0s 2ms/step - loss: 3.6270 - accuracy: 0.0000e+00\n",
      "Epoch 3/150\n",
      "13/13 [==============================] - 0s 3ms/step - loss: 1.9091 - accuracy: 0.0000e+00\n",
      "Epoch 4/150\n",
      "13/13 [==============================] - 0s 3ms/step - loss: 0.7816 - accuracy: 0.0000e+00\n",
      "Epoch 5/150\n",
      "13/13 [==============================] - 0s 3ms/step - loss: 1.0638 - accuracy: 0.0000e+00\n",
      "Epoch 6/150\n",
      "13/13 [==============================] - 0s 3ms/step - loss: 1.4008 - accuracy: 0.0000e+00\n",
      "Epoch 7/150\n",
      "13/13 [==============================] - 0s 3ms/step - loss: 0.6724 - accuracy: 0.0000e+00\n",
      "Epoch 8/150\n",
      "13/13 [==============================] - 0s 4ms/step - loss: 0.8003 - accuracy: 0.0000e+00\n",
      "Epoch 9/150\n",
      "13/13 [==============================] - 0s 3ms/step - loss: 0.5995 - accuracy: 0.0000e+00\n",
      "Epoch 10/150\n",
      "13/13 [==============================] - 0s 3ms/step - loss: 0.7480 - accuracy: 0.0000e+00\n",
      "Epoch 11/150\n",
      "13/13 [==============================] - 0s 3ms/step - loss: 0.5143 - accuracy: 0.0000e+00\n",
      "Epoch 12/150\n",
      "13/13 [==============================] - 0s 2ms/step - loss: 0.2880 - accuracy: 0.0000e+00\n",
      "Epoch 13/150\n",
      "13/13 [==============================] - 0s 4ms/step - loss: 0.6811 - accuracy: 0.0000e+00\n",
      "Epoch 14/150\n",
      "13/13 [==============================] - 0s 3ms/step - loss: 0.8521 - accuracy: 0.0000e+00\n",
      "Epoch 15/150\n",
      "13/13 [==============================] - 0s 3ms/step - loss: 0.3082 - accuracy: 0.0000e+00\n",
      "Epoch 16/150\n",
      "13/13 [==============================] - 0s 2ms/step - loss: 0.4016 - accuracy: 0.0000e+00\n",
      "Epoch 17/150\n",
      "13/13 [==============================] - 0s 3ms/step - loss: 0.3027 - accuracy: 0.0000e+00\n",
      "Epoch 18/150\n",
      "13/13 [==============================] - 0s 3ms/step - loss: 0.3669 - accuracy: 0.0000e+00\n",
      "Epoch 19/150\n",
      "13/13 [==============================] - 0s 4ms/step - loss: 0.1604 - accuracy: 0.0000e+00\n",
      "Epoch 20/150\n",
      "13/13 [==============================] - 0s 3ms/step - loss: 0.2963 - accuracy: 0.0000e+00\n",
      "Epoch 21/150\n",
      "13/13 [==============================] - 0s 3ms/step - loss: 0.4056 - accuracy: 0.0000e+00\n",
      "Epoch 22/150\n",
      "13/13 [==============================] - 0s 3ms/step - loss: 0.5514 - accuracy: 0.0000e+00\n",
      "Epoch 23/150\n",
      "13/13 [==============================] - 0s 3ms/step - loss: 0.3605 - accuracy: 0.0000e+00\n",
      "Epoch 24/150\n",
      "13/13 [==============================] - 0s 3ms/step - loss: 0.2202 - accuracy: 0.0000e+00\n",
      "Epoch 25/150\n",
      "13/13 [==============================] - 0s 3ms/step - loss: 0.2575 - accuracy: 0.0000e+00\n",
      "Epoch 26/150\n",
      "13/13 [==============================] - 0s 3ms/step - loss: 0.2574 - accuracy: 0.0000e+00\n",
      "Epoch 27/150\n",
      "13/13 [==============================] - 0s 2ms/step - loss: 0.3655 - accuracy: 0.0000e+00\n",
      "Epoch 28/150\n",
      "13/13 [==============================] - 0s 3ms/step - loss: 0.2164 - accuracy: 0.0000e+00\n",
      "Epoch 29/150\n",
      "13/13 [==============================] - 0s 4ms/step - loss: 0.1256 - accuracy: 0.0000e+00\n",
      "Epoch 30/150\n",
      "13/13 [==============================] - 0s 3ms/step - loss: 0.1234 - accuracy: 0.0000e+00\n",
      "Epoch 31/150\n",
      "13/13 [==============================] - 0s 3ms/step - loss: 0.1252 - accuracy: 0.0000e+00\n",
      "Epoch 32/150\n",
      "13/13 [==============================] - 0s 4ms/step - loss: 0.1628 - accuracy: 0.0000e+00\n",
      "Epoch 33/150\n",
      "13/13 [==============================] - 0s 3ms/step - loss: 0.1579 - accuracy: 0.0000e+00\n",
      "Epoch 34/150\n",
      "13/13 [==============================] - 0s 3ms/step - loss: 0.0888 - accuracy: 0.0000e+00\n",
      "Epoch 35/150\n",
      "13/13 [==============================] - 0s 4ms/step - loss: 0.0858 - accuracy: 0.0000e+00\n",
      "Epoch 36/150\n",
      "13/13 [==============================] - 0s 3ms/step - loss: 0.0547 - accuracy: 0.0000e+00\n",
      "Epoch 37/150\n",
      "13/13 [==============================] - 0s 3ms/step - loss: 0.1222 - accuracy: 0.0000e+00\n",
      "Epoch 38/150\n",
      "13/13 [==============================] - 0s 4ms/step - loss: 0.1250 - accuracy: 0.0000e+00\n",
      "Epoch 39/150\n",
      "13/13 [==============================] - 0s 3ms/step - loss: 0.1184 - accuracy: 0.0000e+00\n",
      "Epoch 40/150\n",
      "13/13 [==============================] - 0s 3ms/step - loss: 0.0576 - accuracy: 0.0000e+00\n",
      "Epoch 41/150\n",
      "13/13 [==============================] - 0s 3ms/step - loss: 0.0425 - accuracy: 0.0000e+00\n",
      "Epoch 42/150\n",
      "13/13 [==============================] - 0s 3ms/step - loss: 0.0952 - accuracy: 0.0000e+00\n",
      "Epoch 43/150\n",
      "13/13 [==============================] - 0s 3ms/step - loss: 0.0507 - accuracy: 0.0000e+00\n",
      "Epoch 44/150\n",
      "13/13 [==============================] - 0s 3ms/step - loss: 0.0965 - accuracy: 0.0000e+00\n",
      "Epoch 45/150\n",
      "13/13 [==============================] - 0s 3ms/step - loss: 0.0596 - accuracy: 0.0000e+00\n",
      "Epoch 46/150\n",
      "13/13 [==============================] - 0s 3ms/step - loss: 0.0489 - accuracy: 0.0000e+00\n",
      "Epoch 47/150\n",
      "13/13 [==============================] - 0s 3ms/step - loss: 0.0539 - accuracy: 0.0000e+00\n",
      "Epoch 48/150\n",
      "13/13 [==============================] - 0s 3ms/step - loss: 0.0661 - accuracy: 0.0000e+00\n",
      "Epoch 49/150\n",
      "13/13 [==============================] - 0s 3ms/step - loss: 0.0528 - accuracy: 0.0000e+00\n",
      "Epoch 50/150\n",
      "13/13 [==============================] - 0s 3ms/step - loss: 0.0391 - accuracy: 0.0000e+00\n",
      "Epoch 51/150\n",
      "13/13 [==============================] - 0s 5ms/step - loss: 0.0326 - accuracy: 0.0000e+00\n",
      "Epoch 52/150\n",
      "13/13 [==============================] - 0s 3ms/step - loss: 0.1451 - accuracy: 0.0000e+00\n",
      "Epoch 53/150\n",
      "13/13 [==============================] - 0s 3ms/step - loss: 0.0562 - accuracy: 0.0000e+00\n",
      "Epoch 54/150\n",
      "13/13 [==============================] - 0s 4ms/step - loss: 0.0522 - accuracy: 0.0000e+00\n",
      "Epoch 55/150\n",
      "13/13 [==============================] - 0s 2ms/step - loss: 0.0256 - accuracy: 0.0000e+00\n",
      "Epoch 56/150\n",
      "13/13 [==============================] - 0s 3ms/step - loss: 0.0269 - accuracy: 0.0000e+00\n",
      "Epoch 57/150\n",
      "13/13 [==============================] - 0s 3ms/step - loss: 0.0254 - accuracy: 0.0000e+00\n",
      "Epoch 58/150\n",
      "13/13 [==============================] - 0s 4ms/step - loss: 0.0403 - accuracy: 0.0000e+00\n",
      "Epoch 59/150\n",
      "13/13 [==============================] - 0s 3ms/step - loss: 0.0306 - accuracy: 0.0000e+00\n",
      "Epoch 60/150\n",
      "13/13 [==============================] - 0s 2ms/step - loss: 0.0264 - accuracy: 0.0000e+00\n",
      "Epoch 61/150\n",
      "13/13 [==============================] - 0s 4ms/step - loss: 0.0166 - accuracy: 0.0000e+00\n",
      "Epoch 62/150\n",
      "13/13 [==============================] - 0s 3ms/step - loss: 0.0260 - accuracy: 0.0000e+00\n",
      "Epoch 63/150\n",
      "13/13 [==============================] - 0s 3ms/step - loss: 0.0356 - accuracy: 0.0000e+00\n",
      "Epoch 64/150\n",
      "13/13 [==============================] - 0s 2ms/step - loss: 0.0217 - accuracy: 0.0000e+00\n",
      "Epoch 65/150\n",
      "13/13 [==============================] - 0s 3ms/step - loss: 0.0163 - accuracy: 0.0000e+00\n",
      "Epoch 66/150\n",
      "13/13 [==============================] - 0s 3ms/step - loss: 0.0279 - accuracy: 0.0000e+00\n",
      "Epoch 67/150\n",
      "13/13 [==============================] - 0s 5ms/step - loss: 0.0254 - accuracy: 0.0000e+00\n",
      "Epoch 68/150\n",
      "13/13 [==============================] - 0s 13ms/step - loss: 0.0212 - accuracy: 0.0000e+00\n",
      "Epoch 69/150\n",
      "13/13 [==============================] - 0s 5ms/step - loss: 0.0197 - accuracy: 0.0000e+00\n",
      "Epoch 70/150\n",
      "13/13 [==============================] - 0s 3ms/step - loss: 0.0212 - accuracy: 0.0000e+00\n",
      "Epoch 71/150\n",
      "13/13 [==============================] - 0s 4ms/step - loss: 0.0169 - accuracy: 0.0000e+00\n",
      "Epoch 72/150\n",
      "13/13 [==============================] - 0s 3ms/step - loss: 0.0323 - accuracy: 0.0000e+00\n",
      "Epoch 73/150\n",
      "13/13 [==============================] - 0s 3ms/step - loss: 0.0395 - accuracy: 0.0000e+00\n",
      "Epoch 74/150\n",
      "13/13 [==============================] - 0s 2ms/step - loss: 0.0263 - accuracy: 0.0000e+00\n",
      "Epoch 75/150\n",
      "13/13 [==============================] - 0s 3ms/step - loss: 0.0287 - accuracy: 0.0000e+00\n",
      "Epoch 76/150\n",
      "13/13 [==============================] - 0s 3ms/step - loss: 0.0206 - accuracy: 0.0000e+00\n",
      "Epoch 77/150\n",
      "13/13 [==============================] - 0s 3ms/step - loss: 0.0322 - accuracy: 0.0000e+00\n",
      "Epoch 78/150\n",
      "13/13 [==============================] - 0s 3ms/step - loss: 0.0203 - accuracy: 0.0000e+00\n",
      "Epoch 79/150\n"
     ]
    },
    {
     "name": "stdout",
     "output_type": "stream",
     "text": [
      "13/13 [==============================] - 0s 3ms/step - loss: 0.0184 - accuracy: 0.0000e+00\n",
      "Epoch 80/150\n",
      "13/13 [==============================] - 0s 3ms/step - loss: 0.0125 - accuracy: 0.0000e+00\n",
      "Epoch 81/150\n",
      "13/13 [==============================] - 0s 4ms/step - loss: 0.0142 - accuracy: 0.0000e+00\n",
      "Epoch 82/150\n",
      "13/13 [==============================] - 0s 3ms/step - loss: 0.0236 - accuracy: 0.0000e+00\n",
      "Epoch 83/150\n",
      "13/13 [==============================] - 0s 3ms/step - loss: 0.0150 - accuracy: 0.0000e+00\n",
      "Epoch 84/150\n",
      "13/13 [==============================] - 0s 3ms/step - loss: 0.0136 - accuracy: 0.0000e+00\n",
      "Epoch 85/150\n",
      "13/13 [==============================] - 0s 3ms/step - loss: 0.0150 - accuracy: 0.0000e+00\n",
      "Epoch 86/150\n",
      "13/13 [==============================] - 0s 3ms/step - loss: 0.0138 - accuracy: 0.0000e+00\n",
      "Epoch 87/150\n",
      "13/13 [==============================] - 0s 3ms/step - loss: 0.0108 - accuracy: 0.0000e+00\n",
      "Epoch 88/150\n",
      "13/13 [==============================] - 0s 3ms/step - loss: 0.0096 - accuracy: 0.0000e+00\n",
      "Epoch 89/150\n",
      "13/13 [==============================] - 0s 2ms/step - loss: 0.0088 - accuracy: 0.0000e+00\n",
      "Epoch 90/150\n",
      "13/13 [==============================] - 0s 4ms/step - loss: 0.0156 - accuracy: 0.0000e+00\n",
      "Epoch 91/150\n",
      "13/13 [==============================] - 0s 3ms/step - loss: 0.0141 - accuracy: 0.0000e+00\n",
      "Epoch 92/150\n",
      "13/13 [==============================] - 0s 3ms/step - loss: 0.0126 - accuracy: 0.0000e+00\n",
      "Epoch 93/150\n",
      "13/13 [==============================] - 0s 2ms/step - loss: 0.0098 - accuracy: 0.0000e+00\n",
      "Epoch 94/150\n",
      "13/13 [==============================] - 0s 3ms/step - loss: 0.0234 - accuracy: 0.0000e+00\n",
      "Epoch 95/150\n",
      "13/13 [==============================] - 0s 3ms/step - loss: 0.0090 - accuracy: 0.0000e+00\n",
      "Epoch 96/150\n",
      "13/13 [==============================] - 0s 3ms/step - loss: 0.0072 - accuracy: 0.0000e+00\n",
      "Epoch 97/150\n",
      "13/13 [==============================] - 0s 3ms/step - loss: 0.0121 - accuracy: 0.0000e+00\n",
      "Epoch 98/150\n",
      "13/13 [==============================] - 0s 3ms/step - loss: 0.0063 - accuracy: 0.0000e+00\n",
      "Epoch 99/150\n",
      "13/13 [==============================] - 0s 7ms/step - loss: 0.0154 - accuracy: 0.0000e+00\n",
      "Epoch 100/150\n",
      "13/13 [==============================] - 0s 4ms/step - loss: 0.0118 - accuracy: 0.0000e+00\n",
      "Epoch 101/150\n",
      "13/13 [==============================] - 0s 3ms/step - loss: 0.0086 - accuracy: 0.0000e+00\n",
      "Epoch 102/150\n",
      "13/13 [==============================] - 0s 3ms/step - loss: 0.0085 - accuracy: 0.0000e+00\n",
      "Epoch 103/150\n",
      "13/13 [==============================] - 0s 3ms/step - loss: 0.0058 - accuracy: 0.0000e+00\n",
      "Epoch 104/150\n",
      "13/13 [==============================] - 0s 2ms/step - loss: 0.0052 - accuracy: 0.0000e+00\n",
      "Epoch 105/150\n",
      "13/13 [==============================] - 0s 3ms/step - loss: 0.0077 - accuracy: 0.0000e+00\n",
      "Epoch 106/150\n",
      "13/13 [==============================] - 0s 4ms/step - loss: 0.0071 - accuracy: 0.0000e+00\n",
      "Epoch 107/150\n",
      "13/13 [==============================] - 0s 3ms/step - loss: 0.0090 - accuracy: 0.0000e+00\n",
      "Epoch 108/150\n",
      "13/13 [==============================] - 0s 3ms/step - loss: 0.0074 - accuracy: 0.0000e+00\n",
      "Epoch 109/150\n",
      "13/13 [==============================] - 0s 3ms/step - loss: 0.0271 - accuracy: 0.0000e+00\n",
      "Epoch 110/150\n",
      "13/13 [==============================] - 0s 3ms/step - loss: 0.0099 - accuracy: 0.0000e+00\n",
      "Epoch 111/150\n",
      "13/13 [==============================] - 0s 3ms/step - loss: 0.0049 - accuracy: 0.0000e+00\n",
      "Epoch 112/150\n",
      "13/13 [==============================] - 0s 3ms/step - loss: 0.0059 - accuracy: 0.0000e+00\n",
      "Epoch 113/150\n",
      "13/13 [==============================] - 0s 3ms/step - loss: 0.0062 - accuracy: 0.0000e+00\n",
      "Epoch 114/150\n",
      "13/13 [==============================] - 0s 3ms/step - loss: 0.0046 - accuracy: 0.0000e+00\n",
      "Epoch 115/150\n",
      "13/13 [==============================] - 0s 3ms/step - loss: 0.0063 - accuracy: 0.0000e+00\n",
      "Epoch 116/150\n",
      "13/13 [==============================] - 0s 4ms/step - loss: 0.0070 - accuracy: 0.0000e+00\n",
      "Epoch 117/150\n",
      "13/13 [==============================] - 0s 3ms/step - loss: 0.0053 - accuracy: 0.0000e+00\n",
      "Epoch 118/150\n",
      "13/13 [==============================] - 0s 3ms/step - loss: 0.0057 - accuracy: 0.0000e+00\n",
      "Epoch 119/150\n",
      "13/13 [==============================] - 0s 5ms/step - loss: 0.0043 - accuracy: 0.0000e+00\n",
      "Epoch 120/150\n",
      "13/13 [==============================] - 0s 3ms/step - loss: 0.0083 - accuracy: 0.0000e+00\n",
      "Epoch 121/150\n",
      "13/13 [==============================] - 0s 2ms/step - loss: 0.0060 - accuracy: 0.0000e+00\n",
      "Epoch 122/150\n",
      "13/13 [==============================] - 0s 3ms/step - loss: 0.0068 - accuracy: 0.0000e+00\n",
      "Epoch 123/150\n",
      "13/13 [==============================] - 0s 3ms/step - loss: 0.0046 - accuracy: 0.0000e+00\n",
      "Epoch 124/150\n",
      "13/13 [==============================] - 0s 3ms/step - loss: 0.0046 - accuracy: 0.0000e+00\n",
      "Epoch 125/150\n",
      "13/13 [==============================] - 0s 3ms/step - loss: 0.0075 - accuracy: 0.0000e+00\n",
      "Epoch 126/150\n",
      "13/13 [==============================] - 0s 4ms/step - loss: 0.0062 - accuracy: 0.0000e+00\n",
      "Epoch 127/150\n",
      "13/13 [==============================] - 0s 4ms/step - loss: 0.0060 - accuracy: 0.0000e+00\n",
      "Epoch 128/150\n",
      "13/13 [==============================] - 0s 3ms/step - loss: 0.0070 - accuracy: 0.0000e+00\n",
      "Epoch 129/150\n",
      "13/13 [==============================] - 0s 3ms/step - loss: 0.0097 - accuracy: 0.0000e+00\n",
      "Epoch 130/150\n",
      "13/13 [==============================] - 0s 3ms/step - loss: 0.0474 - accuracy: 0.0000e+00\n",
      "Epoch 131/150\n",
      "13/13 [==============================] - 0s 3ms/step - loss: 0.0201 - accuracy: 0.0000e+00\n",
      "Epoch 132/150\n",
      "13/13 [==============================] - 0s 3ms/step - loss: 0.0156 - accuracy: 0.0000e+00\n",
      "Epoch 133/150\n",
      "13/13 [==============================] - 0s 4ms/step - loss: 0.0128 - accuracy: 0.0000e+00\n",
      "Epoch 134/150\n",
      "13/13 [==============================] - 0s 3ms/step - loss: 0.0073 - accuracy: 0.0000e+00\n",
      "Epoch 135/150\n",
      "13/13 [==============================] - 0s 3ms/step - loss: 0.0060 - accuracy: 0.0000e+00\n",
      "Epoch 136/150\n",
      "13/13 [==============================] - 0s 3ms/step - loss: 0.0044 - accuracy: 0.0000e+00\n",
      "Epoch 137/150\n",
      "13/13 [==============================] - 0s 3ms/step - loss: 0.0051 - accuracy: 0.0000e+00\n",
      "Epoch 138/150\n",
      "13/13 [==============================] - 0s 3ms/step - loss: 0.0042 - accuracy: 0.0000e+00\n",
      "Epoch 139/150\n",
      "13/13 [==============================] - 0s 3ms/step - loss: 0.0056 - accuracy: 0.0000e+00\n",
      "Epoch 140/150\n",
      "13/13 [==============================] - 0s 3ms/step - loss: 0.0067 - accuracy: 0.0000e+00\n",
      "Epoch 141/150\n",
      "13/13 [==============================] - 0s 3ms/step - loss: 0.0065 - accuracy: 0.0000e+00\n",
      "Epoch 142/150\n",
      "13/13 [==============================] - 0s 3ms/step - loss: 0.0046 - accuracy: 0.0000e+00\n",
      "Epoch 143/150\n",
      "13/13 [==============================] - 0s 3ms/step - loss: 0.0065 - accuracy: 0.0000e+00\n",
      "Epoch 144/150\n",
      "13/13 [==============================] - 0s 3ms/step - loss: 0.0034 - accuracy: 0.0000e+00\n",
      "Epoch 145/150\n",
      "13/13 [==============================] - 0s 3ms/step - loss: 0.0038 - accuracy: 0.0000e+00\n",
      "Epoch 146/150\n",
      "13/13 [==============================] - 0s 4ms/step - loss: 0.0050 - accuracy: 0.0000e+00\n",
      "Epoch 147/150\n",
      "13/13 [==============================] - 0s 4ms/step - loss: 0.0173 - accuracy: 0.0000e+00\n",
      "Epoch 148/150\n",
      "13/13 [==============================] - 0s 3ms/step - loss: 0.0091 - accuracy: 0.0000e+00\n",
      "Epoch 149/150\n",
      "13/13 [==============================] - 0s 3ms/step - loss: 0.0218 - accuracy: 0.0000e+00\n",
      "Epoch 150/150\n",
      "13/13 [==============================] - 0s 3ms/step - loss: 0.0047 - accuracy: 0.0000e+00\n"
     ]
    },
    {
     "data": {
      "text/plain": [
       "<keras.callbacks.History at 0x2826bc542e0>"
      ]
     },
     "execution_count": 10,
     "metadata": {},
     "output_type": "execute_result"
    }
   ],
   "source": [
    "model.fit(xtrain, ytrain,batch_size = 2,epochs=150,callbacks =[tensorboard] )\n"
   ]
  },
  {
   "cell_type": "code",
   "execution_count": 11,
   "metadata": {},
   "outputs": [
    {
     "name": "stdout",
     "output_type": "stream",
     "text": [
      "1/1 [==============================] - 1s 902ms/step - loss: 6.4024 - accuracy: 0.0000e+00\n"
     ]
    }
   ],
   "source": [
    "loss, accuracy = model.evaluate(xtest,ytest)"
   ]
  },
  {
   "cell_type": "code",
   "execution_count": 12,
   "metadata": {},
   "outputs": [
    {
     "data": {
      "text/plain": [
       "array([[0.08568542],\n",
       "       [0.37344503],\n",
       "       [5.355374  ],\n",
       "       [5.861169  ],\n",
       "       [4.7979856 ],\n",
       "       [2.7404203 ]], dtype=float32)"
      ]
     },
     "execution_count": 12,
     "metadata": {},
     "output_type": "execute_result"
    }
   ],
   "source": [
    "ypred = model.predict(xtest)\n",
    "ypred\n"
   ]
  },
  {
   "cell_type": "code",
   "execution_count": 13,
   "metadata": {},
   "outputs": [
    {
     "data": {
      "image/png": "[encoded data removed]",
      "text/plain": [
       "<Figure size 432x288 with 1 Axes>"
      ]
     },
     "metadata": {
      "needs_background": "light"
     },
     "output_type": "display_data"
    }
   ],
   "source": [
    "x_ax = range(len(ypred))\n",
    "plt.scatter(x_ax, ytest, s=10, color=\"blue\", label=\"original\")\n",
    "plt.plot(x_ax, ypred, lw=0.8, color=\"red\", label=\"predicted\")\n",
    "plt.legend()\n",
    "plt.show()"
   ]
  },
  {
   "cell_type": "code",
   "execution_count": 14,
   "metadata": {},
   "outputs": [
    {
     "name": "stdout",
     "output_type": "stream",
     "text": [
      "[[-0.24944057]\n",
      " [-0.30665267]]\n"
     ]
    }
   ],
   "source": [
    "test_rownet = np.asarray(test_row_standarized) #testrow to model data without H, Hlab and TOC\n",
    "test_rownet = test_rownet.reshape(2,19,1)\n",
    "testpred = model.predict(test_rownet)\n",
    "print(testpred)"
   ]
  },
  {
   "cell_type": "code",
   "execution_count": null,
   "metadata": {},
   "outputs": [],
   "source": []
  },
  {
   "cell_type": "code",
   "execution_count": null,
   "metadata": {},
   "outputs": [],
   "source": []
  },
  {
   "cell_type": "code",
   "execution_count": null,
   "metadata": {},
   "outputs": [],
   "source": [
    " "
   ]
  }
 ],
 "metadata": {
  "kernelspec": {
   "display_name": "Python 3",
   "language": "python",
   "name": "python3"
  },
  "language_info": {
   "codemirror_mode": {
    "name": "ipython",
    "version": 3
   },
   "file_extension": ".py",
   "mimetype": "text/x-python",
   "name": "python",
   "nbconvert_exporter": "python",
   "pygments_lexer": "ipython3",
   "version": "3.8.5"
  }
 },
 "nbformat": 4,
 "nbformat_minor": 4
}
