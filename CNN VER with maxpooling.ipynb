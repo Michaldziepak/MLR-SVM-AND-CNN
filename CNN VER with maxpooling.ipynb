{
 "cells": [
  {
   "cell_type": "code",
   "execution_count": 15,
   "metadata": {},
   "outputs": [],
   "source": [
    "from keras.models import Sequential\n",
    "from keras.layers import Dense, Conv1D, Flatten,MaxPooling1D\n",
    "from sklearn.model_selection import train_test_split\n",
    "from sklearn.metrics import mean_squared_error\n",
    "import matplotlib.pyplot as plt\n",
    "import numpy as np\n",
    "import pandas as pd"
   ]
  },
  {
   "cell_type": "code",
   "execution_count": 16,
   "metadata": {},
   "outputs": [],
   "source": [
    "pd.set_option('display.max_columns',100)\n",
    "Data = pd.read_excel(\"Otw4_mgr.xlsx\")"
   ]
  },
  {
   "cell_type": "code",
   "execution_count": 17,
   "metadata": {},
   "outputs": [],
   "source": [
    "Labeleddata = Data.dropna()"
   ]
  },
  {
   "cell_type": "code",
   "execution_count": 18,
   "metadata": {},
   "outputs": [],
   "source": [
    "features = list(Data.columns.values)\n",
    "Labeleddata_withr8index = Labeleddata.reset_index(drop=True)#NAN DROP\n",
    "\n",
    "from sklearn import preprocessing\n",
    "\n",
    "x = Labeleddata_withr8index.iloc[:,1:20].values\n",
    "min_max_scaler = preprocessing.MinMaxScaler()\n",
    "x_scaled = min_max_scaler.fit_transform(x)\n",
    "df = pd.DataFrame(x_scaled)\n",
    "df.columns = features[1:20]\n",
    "\n",
    "non_standarized_data = Labeleddata_withr8index\n",
    "test_row_standarized = df.iloc[5:7]\n",
    "\n",
    "non_standarized_data = non_standarized_data.drop([5,6])\n",
    "TOC = non_standarized_data[\"TOC[%]\"]\n",
    "TOC = TOC.reset_index(drop=True) #31 elements of nonstandarized TOC\n",
    "\n",
    "test_row = Labeleddata_withr8index.iloc[5:7]#test rows 5,6+\n",
    "R8data= df.drop([5,6])# dropping 5 and 6 row in labeled data and creating R8data (31 elements)\n",
    "R8data = R8data.reset_index(drop=True)# reseting index for R8data\n",
    "\n",
    "\n",
    "\n",
    "#TOC = non_standarized_data[\"TOC[%]\"]#toc 31 elements\n",
    "\n",
    "TOC_row5=test_row[\"TOC[%]\"] # TOC 2 elements non standarized\n",
    "#R8data,Toc, test_row_standarized, TOC_row5"
   ]
  },
  {
   "cell_type": "code",
   "execution_count": 19,
   "metadata": {},
   "outputs": [
    {
     "name": "stdout",
     "output_type": "stream",
     "text": [
      "(32, 19)\n"
     ]
    }
   ],
   "source": [
    "x, y = R8data, TOC\n",
    "print(x.shape)"
   ]
  },
  {
   "cell_type": "code",
   "execution_count": 20,
   "metadata": {},
   "outputs": [
    {
     "name": "stdout",
     "output_type": "stream",
     "text": [
      "(32, 19, 1)\n"
     ]
    }
   ],
   "source": [
    "x = x.values.reshape(x.shape[0],x.shape[1],1)\n",
    "print(x.shape)"
   ]
  },
  {
   "cell_type": "code",
   "execution_count": 21,
   "metadata": {},
   "outputs": [],
   "source": [
    "xtrain, xtest, ytrain, ytest = train_test_split(x, y, test_size=0.16)\n"
   ]
  },
  {
   "cell_type": "code",
   "execution_count": 22,
   "metadata": {},
   "outputs": [
    {
     "name": "stdout",
     "output_type": "stream",
     "text": [
      "Model: \"sequential_1\"\n",
      "_________________________________________________________________\n",
      "Layer (type)                 Output Shape              Param #   \n",
      "=================================================================\n",
      "conv1d_2 (Conv1D)            (None, 18, 16)            48        \n",
      "_________________________________________________________________\n",
      "max_pooling1d_2 (MaxPooling1 (None, 9, 16)             0         \n",
      "_________________________________________________________________\n",
      "conv1d_3 (Conv1D)            (None, 8, 32)             1056      \n",
      "_________________________________________________________________\n",
      "max_pooling1d_3 (MaxPooling1 (None, 4, 32)             0         \n",
      "_________________________________________________________________\n",
      "flatten_1 (Flatten)          (None, 128)               0         \n",
      "_________________________________________________________________\n",
      "dense_2 (Dense)              (None, 32)                4128      \n",
      "_________________________________________________________________\n",
      "dense_3 (Dense)              (None, 1)                 33        \n",
      "=================================================================\n",
      "Total params: 5,265\n",
      "Trainable params: 5,265\n",
      "Non-trainable params: 0\n",
      "_________________________________________________________________\n"
     ]
    }
   ],
   "source": [
    "model = Sequential()\n",
    "model.add(Conv1D(16, 2, activation=\"relu\", input_shape=(19,1)))\n",
    "model.add(MaxPooling1D())\n",
    "model.add(Conv1D(32, 2, activation=\"relu\", input_shape=(19,1)))\n",
    "model.add(MaxPooling1D())\n",
    "model.add(Flatten())\n",
    "model.add(Dense(32, activation=\"relu\"))\n",
    "model.add(Dense(1))\n",
    "model.compile(loss=\"mse\", optimizer=\"adam\",metrics=['accuracy'])\n",
    "model.summary()"
   ]
  },
  {
   "cell_type": "code",
   "execution_count": 23,
   "metadata": {},
   "outputs": [],
   "source": [
    "from tensorflow.keras.callbacks import TensorBoard\n",
    "import time\n",
    "NAME = \"SIEC-{}\".format(int(time.time()))\n",
    "tensorboard = TensorBoard(log_dir='logs/{}'.format(NAME))"
   ]
  },
  {
   "cell_type": "code",
   "execution_count": 24,
   "metadata": {},
   "outputs": [
    {
     "name": "stdout",
     "output_type": "stream",
     "text": [
      "Epoch 1/150\n",
      "1/1 [==============================] - 2s 2s/step - loss: 16.8702 - accuracy: 0.0000e+00\n",
      "Epoch 2/150\n",
      "1/1 [==============================] - 1s 1s/step - loss: 16.3388 - accuracy: 0.0000e+00\n",
      "Epoch 3/150\n",
      "1/1 [==============================] - 0s 24ms/step - loss: 15.8104 - accuracy: 0.0000e+00\n",
      "Epoch 4/150\n",
      "1/1 [==============================] - 0s 0s/step - loss: 15.2873 - accuracy: 0.0000e+00\n",
      "Epoch 5/150\n",
      "1/1 [==============================] - 0s 8ms/step - loss: 14.7927 - accuracy: 0.0000e+00\n",
      "Epoch 6/150\n",
      "1/1 [==============================] - 0s 8ms/step - loss: 14.3154 - accuracy: 0.0000e+00\n",
      "Epoch 7/150\n",
      "1/1 [==============================] - 0s 8ms/step - loss: 13.8416 - accuracy: 0.0000e+00\n",
      "Epoch 8/150\n",
      "1/1 [==============================] - 0s 8ms/step - loss: 13.3790 - accuracy: 0.0000e+00\n",
      "Epoch 9/150\n",
      "1/1 [==============================] - 0s 16ms/step - loss: 12.9253 - accuracy: 0.0000e+00\n",
      "Epoch 10/150\n",
      "1/1 [==============================] - 0s 8ms/step - loss: 12.4821 - accuracy: 0.0000e+00\n",
      "Epoch 11/150\n",
      "1/1 [==============================] - 0s 8ms/step - loss: 12.0467 - accuracy: 0.0000e+00\n",
      "Epoch 12/150\n",
      "1/1 [==============================] - 0s 0s/step - loss: 11.6234 - accuracy: 0.0000e+00\n",
      "Epoch 13/150\n",
      "1/1 [==============================] - 0s 6ms/step - loss: 11.2156 - accuracy: 0.0000e+00\n",
      "Epoch 14/150\n",
      "1/1 [==============================] - 0s 8ms/step - loss: 10.8329 - accuracy: 0.0000e+00\n",
      "Epoch 15/150\n",
      "1/1 [==============================] - 0s 0s/step - loss: 10.4581 - accuracy: 0.0000e+00\n",
      "Epoch 16/150\n",
      "1/1 [==============================] - 0s 0s/step - loss: 10.0907 - accuracy: 0.0000e+00\n",
      "Epoch 17/150\n",
      "1/1 [==============================] - 0s 8ms/step - loss: 9.7330 - accuracy: 0.0000e+00\n",
      "Epoch 18/150\n",
      "1/1 [==============================] - 0s 8ms/step - loss: 9.3861 - accuracy: 0.0000e+00\n",
      "Epoch 19/150\n",
      "1/1 [==============================] - 0s 7ms/step - loss: 9.0513 - accuracy: 0.0000e+00\n",
      "Epoch 20/150\n",
      "1/1 [==============================] - 0s 0s/step - loss: 8.7373 - accuracy: 0.0000e+00\n",
      "Epoch 21/150\n",
      "1/1 [==============================] - 0s 8ms/step - loss: 8.4434 - accuracy: 0.0000e+00\n",
      "Epoch 22/150\n",
      "1/1 [==============================] - 0s 0s/step - loss: 8.1751 - accuracy: 0.0000e+00\n",
      "Epoch 23/150\n",
      "1/1 [==============================] - 0s 8ms/step - loss: 7.9322 - accuracy: 0.0000e+00\n",
      "Epoch 24/150\n",
      "1/1 [==============================] - 0s 40ms/step - loss: 7.7078 - accuracy: 0.0000e+00\n",
      "Epoch 25/150\n",
      "1/1 [==============================] - 0s 8ms/step - loss: 7.5024 - accuracy: 0.0000e+00\n",
      "Epoch 26/150\n",
      "1/1 [==============================] - 0s 0s/step - loss: 7.3152 - accuracy: 0.0000e+00\n",
      "Epoch 27/150\n",
      "1/1 [==============================] - 0s 8ms/step - loss: 7.1433 - accuracy: 0.0000e+00\n",
      "Epoch 28/150\n",
      "1/1 [==============================] - 0s 16ms/step - loss: 6.9864 - accuracy: 0.0000e+00\n",
      "Epoch 29/150\n",
      "1/1 [==============================] - 0s 16ms/step - loss: 6.8406 - accuracy: 0.0000e+00\n",
      "Epoch 30/150\n",
      "1/1 [==============================] - 0s 8ms/step - loss: 6.7031 - accuracy: 0.0000e+00\n",
      "Epoch 31/150\n",
      "1/1 [==============================] - 0s 8ms/step - loss: 6.5707 - accuracy: 0.0000e+00\n",
      "Epoch 32/150\n",
      "1/1 [==============================] - 0s 0s/step - loss: 6.4422 - accuracy: 0.0000e+00\n",
      "Epoch 33/150\n",
      "1/1 [==============================] - 0s 0s/step - loss: 6.3221 - accuracy: 0.0000e+00\n",
      "Epoch 34/150\n",
      "1/1 [==============================] - 0s 0s/step - loss: 6.2069 - accuracy: 0.0000e+00\n",
      "Epoch 35/150\n",
      "1/1 [==============================] - 0s 0s/step - loss: 6.0918 - accuracy: 0.0000e+00\n",
      "Epoch 36/150\n",
      "1/1 [==============================] - 0s 8ms/step - loss: 5.9731 - accuracy: 0.0000e+00\n",
      "Epoch 37/150\n",
      "1/1 [==============================] - 0s 8ms/step - loss: 5.8490 - accuracy: 0.0000e+00\n",
      "Epoch 38/150\n",
      "1/1 [==============================] - 0s 0s/step - loss: 5.7209 - accuracy: 0.0000e+00\n",
      "Epoch 39/150\n",
      "1/1 [==============================] - 0s 0s/step - loss: 5.5877 - accuracy: 0.0000e+00\n",
      "Epoch 40/150\n",
      "1/1 [==============================] - 0s 0s/step - loss: 5.4511 - accuracy: 0.0000e+00\n",
      "Epoch 41/150\n",
      "1/1 [==============================] - 0s 8ms/step - loss: 5.3120 - accuracy: 0.0000e+00\n",
      "Epoch 42/150\n",
      "1/1 [==============================] - 0s 0s/step - loss: 5.1710 - accuracy: 0.0000e+00\n",
      "Epoch 43/150\n",
      "1/1 [==============================] - 0s 8ms/step - loss: 5.0284 - accuracy: 0.0000e+00\n",
      "Epoch 44/150\n",
      "1/1 [==============================] - 0s 8ms/step - loss: 4.8850 - accuracy: 0.0000e+00\n",
      "Epoch 45/150\n",
      "1/1 [==============================] - 0s 0s/step - loss: 4.7416 - accuracy: 0.0000e+00\n",
      "Epoch 46/150\n",
      "1/1 [==============================] - 0s 7ms/step - loss: 4.5974 - accuracy: 0.0000e+00\n",
      "Epoch 47/150\n",
      "1/1 [==============================] - 0s 8ms/step - loss: 4.4529 - accuracy: 0.0000e+00\n",
      "Epoch 48/150\n",
      "1/1 [==============================] - 0s 0s/step - loss: 4.3086 - accuracy: 0.0000e+00\n",
      "Epoch 49/150\n",
      "1/1 [==============================] - 0s 8ms/step - loss: 4.1658 - accuracy: 0.0000e+00\n",
      "Epoch 50/150\n",
      "1/1 [==============================] - 0s 8ms/step - loss: 4.0232 - accuracy: 0.0000e+00\n",
      "Epoch 51/150\n",
      "1/1 [==============================] - 0s 8ms/step - loss: 3.8810 - accuracy: 0.0000e+00\n",
      "Epoch 52/150\n",
      "1/1 [==============================] - 0s 8ms/step - loss: 3.7403 - accuracy: 0.0000e+00\n",
      "Epoch 53/150\n",
      "1/1 [==============================] - 0s 8ms/step - loss: 3.6017 - accuracy: 0.0000e+00\n",
      "Epoch 54/150\n",
      "1/1 [==============================] - 0s 0s/step - loss: 3.4646 - accuracy: 0.0000e+00\n",
      "Epoch 55/150\n",
      "1/1 [==============================] - 0s 8ms/step - loss: 3.3280 - accuracy: 0.0000e+00\n",
      "Epoch 56/150\n",
      "1/1 [==============================] - 0s 0s/step - loss: 3.1914 - accuracy: 0.0000e+00\n",
      "Epoch 57/150\n",
      "1/1 [==============================] - 0s 0s/step - loss: 3.0550 - accuracy: 0.0000e+00\n",
      "Epoch 58/150\n",
      "1/1 [==============================] - 0s 8ms/step - loss: 2.9202 - accuracy: 0.0000e+00\n",
      "Epoch 59/150\n",
      "1/1 [==============================] - 0s 7ms/step - loss: 2.7891 - accuracy: 0.0000e+00\n",
      "Epoch 60/150\n",
      "1/1 [==============================] - 0s 0s/step - loss: 2.6606 - accuracy: 0.0000e+00\n",
      "Epoch 61/150\n",
      "1/1 [==============================] - 0s 7ms/step - loss: 2.5342 - accuracy: 0.0000e+00\n",
      "Epoch 62/150\n",
      "1/1 [==============================] - 0s 16ms/step - loss: 2.4115 - accuracy: 0.0000e+00\n",
      "Epoch 63/150\n",
      "1/1 [==============================] - 0s 8ms/step - loss: 2.2921 - accuracy: 0.0000e+00\n",
      "Epoch 64/150\n",
      "1/1 [==============================] - 0s 8ms/step - loss: 2.1760 - accuracy: 0.0000e+00\n",
      "Epoch 65/150\n",
      "1/1 [==============================] - 0s 8ms/step - loss: 2.0636 - accuracy: 0.0000e+00\n",
      "Epoch 66/150\n",
      "1/1 [==============================] - 0s 0s/step - loss: 1.9561 - accuracy: 0.0000e+00\n",
      "Epoch 67/150\n",
      "1/1 [==============================] - 0s 8ms/step - loss: 1.8545 - accuracy: 0.0000e+00\n",
      "Epoch 68/150\n",
      "1/1 [==============================] - 0s 8ms/step - loss: 1.7580 - accuracy: 0.0000e+00\n",
      "Epoch 69/150\n",
      "1/1 [==============================] - 0s 7ms/step - loss: 1.6672 - accuracy: 0.0000e+00\n",
      "Epoch 70/150\n",
      "1/1 [==============================] - 0s 8ms/step - loss: 1.5826 - accuracy: 0.0000e+00\n",
      "Epoch 71/150\n",
      "1/1 [==============================] - 0s 0s/step - loss: 1.5040 - accuracy: 0.0000e+00\n",
      "Epoch 72/150\n",
      "1/1 [==============================] - 0s 0s/step - loss: 1.4319 - accuracy: 0.0000e+00\n",
      "Epoch 73/150\n",
      "1/1 [==============================] - 0s 8ms/step - loss: 1.3661 - accuracy: 0.0000e+00\n",
      "Epoch 74/150\n",
      "1/1 [==============================] - 0s 8ms/step - loss: 1.3065 - accuracy: 0.0000e+00\n",
      "Epoch 75/150\n",
      "1/1 [==============================] - 0s 7ms/step - loss: 1.2526 - accuracy: 0.0000e+00\n",
      "Epoch 76/150\n",
      "1/1 [==============================] - 0s 0s/step - loss: 1.2047 - accuracy: 0.0000e+00\n",
      "Epoch 77/150\n",
      "1/1 [==============================] - 0s 0s/step - loss: 1.1628 - accuracy: 0.0000e+00\n",
      "Epoch 78/150\n",
      "1/1 [==============================] - 0s 0s/step - loss: 1.1267 - accuracy: 0.0000e+00\n",
      "Epoch 79/150\n",
      "1/1 [==============================] - 0s 8ms/step - loss: 1.0960 - accuracy: 0.0000e+00\n",
      "Epoch 80/150\n",
      "1/1 [==============================] - 0s 8ms/step - loss: 1.0702 - accuracy: 0.0000e+00\n",
      "Epoch 81/150\n"
     ]
    },
    {
     "name": "stdout",
     "output_type": "stream",
     "text": [
      "1/1 [==============================] - 0s 0s/step - loss: 1.0485 - accuracy: 0.0000e+00\n",
      "Epoch 82/150\n",
      "1/1 [==============================] - 0s 8ms/step - loss: 1.0306 - accuracy: 0.0000e+00\n",
      "Epoch 83/150\n",
      "1/1 [==============================] - 0s 0s/step - loss: 1.0163 - accuracy: 0.0000e+00\n",
      "Epoch 84/150\n",
      "1/1 [==============================] - 0s 8ms/step - loss: 1.0049 - accuracy: 0.0000e+00\n",
      "Epoch 85/150\n",
      "1/1 [==============================] - 0s 0s/step - loss: 0.9955 - accuracy: 0.0000e+00\n",
      "Epoch 86/150\n",
      "1/1 [==============================] - 0s 0s/step - loss: 0.9877 - accuracy: 0.0000e+00\n",
      "Epoch 87/150\n",
      "1/1 [==============================] - 0s 8ms/step - loss: 0.9813 - accuracy: 0.0000e+00\n",
      "Epoch 88/150\n",
      "1/1 [==============================] - 0s 8ms/step - loss: 0.9766 - accuracy: 0.0000e+00\n",
      "Epoch 89/150\n",
      "1/1 [==============================] - 0s 8ms/step - loss: 0.9724 - accuracy: 0.0000e+00\n",
      "Epoch 90/150\n",
      "1/1 [==============================] - 0s 0s/step - loss: 0.9685 - accuracy: 0.0000e+00\n",
      "Epoch 91/150\n",
      "1/1 [==============================] - 0s 8ms/step - loss: 0.9648 - accuracy: 0.0000e+00\n",
      "Epoch 92/150\n",
      "1/1 [==============================] - 0s 8ms/step - loss: 0.9605 - accuracy: 0.0000e+00\n",
      "Epoch 93/150\n",
      "1/1 [==============================] - 0s 16ms/step - loss: 0.9558 - accuracy: 0.0000e+00\n",
      "Epoch 94/150\n",
      "1/1 [==============================] - 0s 24ms/step - loss: 0.9503 - accuracy: 0.0000e+00\n",
      "Epoch 95/150\n",
      "1/1 [==============================] - 0s 16ms/step - loss: 0.9442 - accuracy: 0.0000e+00\n",
      "Epoch 96/150\n",
      "1/1 [==============================] - 0s 8ms/step - loss: 0.9368 - accuracy: 0.0000e+00\n",
      "Epoch 97/150\n",
      "1/1 [==============================] - 0s 8ms/step - loss: 0.9287 - accuracy: 0.0000e+00\n",
      "Epoch 98/150\n",
      "1/1 [==============================] - 0s 40ms/step - loss: 0.9217 - accuracy: 0.0000e+00\n",
      "Epoch 99/150\n",
      "1/1 [==============================] - 0s 8ms/step - loss: 0.9153 - accuracy: 0.0000e+00\n",
      "Epoch 100/150\n",
      "1/1 [==============================] - 0s 48ms/step - loss: 0.9090 - accuracy: 0.0000e+00\n",
      "Epoch 101/150\n",
      "1/1 [==============================] - 0s 8ms/step - loss: 0.9026 - accuracy: 0.0000e+00\n",
      "Epoch 102/150\n",
      "1/1 [==============================] - 0s 0s/step - loss: 0.8962 - accuracy: 0.0000e+00\n",
      "Epoch 103/150\n",
      "1/1 [==============================] - 0s 24ms/step - loss: 0.8900 - accuracy: 0.0000e+00\n",
      "Epoch 104/150\n",
      "1/1 [==============================] - 0s 16ms/step - loss: 0.8838 - accuracy: 0.0000e+00\n",
      "Epoch 105/150\n",
      "1/1 [==============================] - 0s 48ms/step - loss: 0.8778 - accuracy: 0.0000e+00\n",
      "Epoch 106/150\n",
      "1/1 [==============================] - 0s 40ms/step - loss: 0.8719 - accuracy: 0.0000e+00\n",
      "Epoch 107/150\n",
      "1/1 [==============================] - 0s 24ms/step - loss: 0.8662 - accuracy: 0.0000e+00\n",
      "Epoch 108/150\n",
      "1/1 [==============================] - 0s 16ms/step - loss: 0.8606 - accuracy: 0.0000e+00\n",
      "Epoch 109/150\n",
      "1/1 [==============================] - 0s 8ms/step - loss: 0.8551 - accuracy: 0.0000e+00\n",
      "Epoch 110/150\n",
      "1/1 [==============================] - 0s 0s/step - loss: 0.8498 - accuracy: 0.0000e+00\n",
      "Epoch 111/150\n",
      "1/1 [==============================] - 0s 64ms/step - loss: 0.8447 - accuracy: 0.0000e+00\n",
      "Epoch 112/150\n",
      "1/1 [==============================] - 0s 0s/step - loss: 0.8398 - accuracy: 0.0000e+00\n",
      "Epoch 113/150\n",
      "1/1 [==============================] - 0s 16ms/step - loss: 0.8349 - accuracy: 0.0000e+00\n",
      "Epoch 114/150\n",
      "1/1 [==============================] - 0s 0s/step - loss: 0.8304 - accuracy: 0.0000e+00\n",
      "Epoch 115/150\n",
      "1/1 [==============================] - 0s 24ms/step - loss: 0.8262 - accuracy: 0.0000e+00\n",
      "Epoch 116/150\n",
      "1/1 [==============================] - 0s 16ms/step - loss: 0.8221 - accuracy: 0.0000e+00\n",
      "Epoch 117/150\n",
      "1/1 [==============================] - 0s 8ms/step - loss: 0.8179 - accuracy: 0.0000e+00\n",
      "Epoch 118/150\n",
      "1/1 [==============================] - 0s 8ms/step - loss: 0.8135 - accuracy: 0.0000e+00\n",
      "Epoch 119/150\n",
      "1/1 [==============================] - 0s 8ms/step - loss: 0.8091 - accuracy: 0.0000e+00\n",
      "Epoch 120/150\n",
      "1/1 [==============================] - 0s 0s/step - loss: 0.8048 - accuracy: 0.0000e+00\n",
      "Epoch 121/150\n",
      "1/1 [==============================] - 0s 0s/step - loss: 0.8005 - accuracy: 0.0000e+00\n",
      "Epoch 122/150\n",
      "1/1 [==============================] - 0s 8ms/step - loss: 0.7962 - accuracy: 0.0000e+00\n",
      "Epoch 123/150\n",
      "1/1 [==============================] - 0s 8ms/step - loss: 0.7918 - accuracy: 0.0000e+00\n",
      "Epoch 124/150\n",
      "1/1 [==============================] - 0s 8ms/step - loss: 0.7874 - accuracy: 0.0000e+00\n",
      "Epoch 125/150\n",
      "1/1 [==============================] - 0s 8ms/step - loss: 0.7830 - accuracy: 0.0000e+00\n",
      "Epoch 126/150\n",
      "1/1 [==============================] - 0s 16ms/step - loss: 0.7784 - accuracy: 0.0000e+00\n",
      "Epoch 127/150\n",
      "1/1 [==============================] - 0s 16ms/step - loss: 0.7738 - accuracy: 0.0000e+00\n",
      "Epoch 128/150\n",
      "1/1 [==============================] - 0s 16ms/step - loss: 0.7690 - accuracy: 0.0000e+00\n",
      "Epoch 129/150\n",
      "1/1 [==============================] - 0s 8ms/step - loss: 0.7645 - accuracy: 0.0000e+00\n",
      "Epoch 130/150\n",
      "1/1 [==============================] - 0s 0s/step - loss: 0.7602 - accuracy: 0.0000e+00\n",
      "Epoch 131/150\n",
      "1/1 [==============================] - 0s 8ms/step - loss: 0.7560 - accuracy: 0.0000e+00\n",
      "Epoch 132/150\n",
      "1/1 [==============================] - 0s 16ms/step - loss: 0.7517 - accuracy: 0.0000e+00\n",
      "Epoch 133/150\n",
      "1/1 [==============================] - 0s 8ms/step - loss: 0.7475 - accuracy: 0.0000e+00\n",
      "Epoch 134/150\n",
      "1/1 [==============================] - 0s 8ms/step - loss: 0.7434 - accuracy: 0.0000e+00\n",
      "Epoch 135/150\n",
      "1/1 [==============================] - 0s 8ms/step - loss: 0.7395 - accuracy: 0.0000e+00\n",
      "Epoch 136/150\n",
      "1/1 [==============================] - 0s 8ms/step - loss: 0.7357 - accuracy: 0.0000e+00\n",
      "Epoch 137/150\n",
      "1/1 [==============================] - 0s 8ms/step - loss: 0.7318 - accuracy: 0.0000e+00\n",
      "Epoch 138/150\n",
      "1/1 [==============================] - 0s 0s/step - loss: 0.7280 - accuracy: 0.0000e+00\n",
      "Epoch 139/150\n",
      "1/1 [==============================] - 0s 40ms/step - loss: 0.7242 - accuracy: 0.0000e+00\n",
      "Epoch 140/150\n",
      "1/1 [==============================] - 0s 8ms/step - loss: 0.7204 - accuracy: 0.0000e+00\n",
      "Epoch 141/150\n",
      "1/1 [==============================] - 0s 8ms/step - loss: 0.7166 - accuracy: 0.0000e+00\n",
      "Epoch 142/150\n",
      "1/1 [==============================] - 0s 8ms/step - loss: 0.7128 - accuracy: 0.0000e+00\n",
      "Epoch 143/150\n",
      "1/1 [==============================] - 0s 24ms/step - loss: 0.7091 - accuracy: 0.0000e+00\n",
      "Epoch 144/150\n",
      "1/1 [==============================] - 0s 0s/step - loss: 0.7055 - accuracy: 0.0000e+00\n",
      "Epoch 145/150\n",
      "1/1 [==============================] - 0s 32ms/step - loss: 0.7018 - accuracy: 0.0000e+00\n",
      "Epoch 146/150\n",
      "1/1 [==============================] - 0s 8ms/step - loss: 0.6980 - accuracy: 0.0000e+00\n",
      "Epoch 147/150\n",
      "1/1 [==============================] - 0s 8ms/step - loss: 0.6943 - accuracy: 0.0000e+00\n",
      "Epoch 148/150\n",
      "1/1 [==============================] - 0s 8ms/step - loss: 0.6906 - accuracy: 0.0000e+00\n",
      "Epoch 149/150\n",
      "1/1 [==============================] - 0s 8ms/step - loss: 0.6869 - accuracy: 0.0000e+00\n",
      "Epoch 150/150\n",
      "1/1 [==============================] - 0s 8ms/step - loss: 0.6832 - accuracy: 0.0000e+00\n"
     ]
    },
    {
     "data": {
      "text/plain": [
       "<keras.callbacks.History at 0x1902a4e4070>"
      ]
     },
     "execution_count": 24,
     "metadata": {},
     "output_type": "execute_result"
    }
   ],
   "source": [
    "model.fit(xtrain, ytrain,epochs=150,callbacks =[tensorboard] )\n"
   ]
  },
  {
   "cell_type": "code",
   "execution_count": 29,
   "metadata": {},
   "outputs": [
    {
     "name": "stdout",
     "output_type": "stream",
     "text": [
      "1/1 [==============================] - 0s 24ms/step - loss: 1.4756 - accuracy: 0.0000e+00\n"
     ]
    },
    {
     "data": {
      "text/plain": [
       "0.0"
      ]
     },
     "execution_count": 29,
     "metadata": {},
     "output_type": "execute_result"
    }
   ],
   "source": [
    "loss, accuracy = model.evaluate(xtest,ytest)\n",
    "accuracy"
   ]
  },
  {
   "cell_type": "code",
   "execution_count": 26,
   "metadata": {},
   "outputs": [
    {
     "data": {
      "text/plain": [
       "array([[0.11661702],\n",
       "       [0.63367605],\n",
       "       [7.195854  ],\n",
       "       [0.04007149],\n",
       "       [0.22301912],\n",
       "       [0.20610213]], dtype=float32)"
      ]
     },
     "execution_count": 26,
     "metadata": {},
     "output_type": "execute_result"
    }
   ],
   "source": [
    "ypred = model.predict(xtest)\n",
    "ypred\n"
   ]
  },
  {
   "cell_type": "code",
   "execution_count": 27,
   "metadata": {},
   "outputs": [
    {
     "data": {
      "image/png": "[encoded data removed]",
      "text/plain": [
       "<Figure size 432x288 with 1 Axes>"
      ]
     },
     "metadata": {
      "needs_background": "light"
     },
     "output_type": "display_data"
    }
   ],
   "source": [
    "x_ax = range(len(ypred)) \n",
    "plt.scatter(x_ax, ytest, s=10, color=\"blue\", label=\"original\")\n",
    "plt.plot(x_ax, ypred, lw=0.8, color=\"red\", label=\"predicted\")\n",
    "plt.legend()\n",
    "plt.show()"
   ]
  },
  {
   "cell_type": "code",
   "execution_count": 28,
   "metadata": {},
   "outputs": [
    {
     "name": "stdout",
     "output_type": "stream",
     "text": [
      "[[0.11235458]\n",
      " [0.03002214]]\n"
     ]
    }
   ],
   "source": [
    "test_rownet = np.asarray(test_row_standarized) #testrow to model data without H, Hlab and TOC\n",
    "test_rownet = test_rownet.reshape(2,19,1)\n",
    "testpred = model.predict(test_rownet)\n",
    "print(testpred)"
   ]
  },
  {
   "cell_type": "code",
   "execution_count": null,
   "metadata": {},
   "outputs": [],
   "source": []
  },
  {
   "cell_type": "code",
   "execution_count": null,
   "metadata": {},
   "outputs": [],
   "source": []
  },
  {
   "cell_type": "code",
   "execution_count": null,
   "metadata": {},
   "outputs": [],
   "source": [
    " "
   ]
  },
  {
   "cell_type": "code",
   "execution_count": null,
   "metadata": {},
   "outputs": [],
   "source": []
  },
  {
   "cell_type": "code",
   "execution_count": null,
   "metadata": {},
   "outputs": [],
   "source": []
  },
  {
   "cell_type": "code",
   "execution_count": null,
   "metadata": {},
   "outputs": [],
   "source": []
  }
 ],
 "metadata": {
  "kernelspec": {
   "display_name": "Python 3",
   "language": "python",
   "name": "python3"
  },
  "language_info": {
   "codemirror_mode": {
    "name": "ipython",
    "version": 3
   },
   "file_extension": ".py",
   "mimetype": "text/x-python",
   "name": "python",
   "nbconvert_exporter": "python",
   "pygments_lexer": "ipython3",
   "version": "3.8.5"
  }
 },
 "nbformat": 4,
 "nbformat_minor": 4
}
